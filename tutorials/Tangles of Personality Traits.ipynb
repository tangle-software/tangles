{
 "cells": [
  {
   "cell_type": "markdown",
   "metadata": {},
   "source": [
    "# Tangles of Personality Traits"
   ]
  },
  {
   "cell_type": "markdown",
   "metadata": {},
   "source": [
    "In this notebook we demonstrate different aspects of the tangle-analysis. We will cover setting up a Survey object, the tangle search, order functions, the tree of tangles and more. We do so by giving a structural analysis of a questionnaire on the Big Five personality traits. We will explore the following problems: \n",
    "\n",
    "__Coherent groups of questions__  \n",
    "We identify coherent structures within the questions. This lets us verify that there are five groups of related questions, called factors.\n",
    "\n",
    "__Typical mindsets__  \n",
    "We analyze the most typical ways of answering the questionnaire. These typical ways can be interpreted as mindsets of the participants.\n",
    "\n",
    "__A tree-structure of mindsets__  \n",
    "We structure typical mindsets by representing them as nodes in a tree — a tree of tangles.\n",
    "\n",
    "__Intervals of typical answers__  \n",
    "With a different setup of features, a tangle will give us, for each question, an interval in which answers to this question typically lie.\n",
    "\n",
    "We will focus on the demonstration of techniques provided by the tangle library. While we will get some interesting insights into the considered survey, this is not an exhaustive survey analysis."
   ]
  },
  {
   "cell_type": "markdown",
   "metadata": {},
   "source": [
    "## 1. The Data"
   ]
  },
  {
   "cell_type": "markdown",
   "metadata": {},
   "source": [
    "Let us start by having a look at our data. The [five factor model of personality](https://en.wikipedia.org/wiki/Big_Five_personality_traits) (also known as the OCEAN model or simply \"Big Five\") proposes that the personality of a person can be described, meaningfully, by how much each of the following five traits, called _factors_, apply to the person:\n",
    "- __E__ for extraversion\n",
    "- __N__ for neuroticism\n",
    "- __A__ for agreeableness\n",
    "- __C__ for conscientiousness\n",
    "- __O__ for openness to experience\n",
    "\n",
    "The data is provided in this repository, so you will not have to download it. We found the data ([here](https://openpsychometrics.org/_rawdata/): download link \"BIG5\"). Let's load the data into our notebook."
   ]
  },
  {
   "cell_type": "code",
   "execution_count": 1,
   "metadata": {
    "ExecuteTime": {
     "end_time": "2024-04-25T13:55:23.319283Z",
     "start_time": "2024-04-25T13:55:22.413093Z"
    }
   },
   "outputs": [
    {
     "name": "stdout",
     "output_type": "stream",
     "text": [
      "Number of participants: 19384\n",
      "Number of questions in the questionnaire: 50\n"
     ]
    }
   ],
   "source": [
    "import numpy as np\n",
    "import pandas as pd\n",
    "from matplotlib import pyplot as plt\n",
    "from src.utilities import load_big_five_data\n",
    "\n",
    "X, var_names, var_labels, factors = load_big_five_data()\n",
    "\n",
    "print(f\"Number of participants: {X.shape[0]}\")\n",
    "print(f\"Number of questions in the questionnaire: {X.shape[1]}\")"
   ]
  },
  {
   "cell_type": "markdown",
   "metadata": {},
   "source": [
    "There are ten questions for each of the five factors E, N, A, C and O ([details](https://ipip.ori.org/new_ipip-50-item-scale.htm)). \n",
    "Let's have a look at how the first participant rated the first ten statements, those measuring extraversion."
   ]
  },
  {
   "cell_type": "code",
   "execution_count": 2,
   "metadata": {
    "ExecuteTime": {
     "end_time": "2024-04-25T13:55:23.322457Z",
     "start_time": "2024-04-25T13:55:23.285461Z"
    }
   },
   "outputs": [
    {
     "data": {
      "text/html": [
       "<div>\n",
       "<style scoped>\n",
       "    .dataframe tbody tr th:only-of-type {\n",
       "        vertical-align: middle;\n",
       "    }\n",
       "\n",
       "    .dataframe tbody tr th {\n",
       "        vertical-align: top;\n",
       "    }\n",
       "\n",
       "    .dataframe thead th {\n",
       "        text-align: right;\n",
       "    }\n",
       "</style>\n",
       "<table border=\"1\" class=\"dataframe\">\n",
       "  <thead>\n",
       "    <tr style=\"text-align: right;\">\n",
       "      <th></th>\n",
       "      <th>Statement</th>\n",
       "      <th>Rating</th>\n",
       "    </tr>\n",
       "  </thead>\n",
       "  <tbody>\n",
       "    <tr>\n",
       "      <th>E1</th>\n",
       "      <td>I am the life of the party.</td>\n",
       "      <td>4</td>\n",
       "    </tr>\n",
       "    <tr>\n",
       "      <th>E2</th>\n",
       "      <td>I don't talk a lot.</td>\n",
       "      <td>2</td>\n",
       "    </tr>\n",
       "    <tr>\n",
       "      <th>E3</th>\n",
       "      <td>I feel comfortable around people.</td>\n",
       "      <td>5</td>\n",
       "    </tr>\n",
       "    <tr>\n",
       "      <th>E4</th>\n",
       "      <td>I keep in the background.</td>\n",
       "      <td>2</td>\n",
       "    </tr>\n",
       "    <tr>\n",
       "      <th>E5</th>\n",
       "      <td>I start conversations.</td>\n",
       "      <td>5</td>\n",
       "    </tr>\n",
       "    <tr>\n",
       "      <th>E6</th>\n",
       "      <td>I have little to say.</td>\n",
       "      <td>1</td>\n",
       "    </tr>\n",
       "    <tr>\n",
       "      <th>E7</th>\n",
       "      <td>I talk to a lot of different people at parties.</td>\n",
       "      <td>4</td>\n",
       "    </tr>\n",
       "    <tr>\n",
       "      <th>E8</th>\n",
       "      <td>I don't like to draw attention to myself.</td>\n",
       "      <td>3</td>\n",
       "    </tr>\n",
       "    <tr>\n",
       "      <th>E9</th>\n",
       "      <td>I don't mind being the center of attention.</td>\n",
       "      <td>5</td>\n",
       "    </tr>\n",
       "    <tr>\n",
       "      <th>E10</th>\n",
       "      <td>I am quiet around strangers.</td>\n",
       "      <td>1</td>\n",
       "    </tr>\n",
       "  </tbody>\n",
       "</table>\n",
       "</div>"
      ],
      "text/plain": [
       "                                           Statement  Rating\n",
       "E1                       I am the life of the party.       4\n",
       "E2                               I don't talk a lot.       2\n",
       "E3                 I feel comfortable around people.       5\n",
       "E4                         I keep in the background.       2\n",
       "E5                            I start conversations.       5\n",
       "E6                             I have little to say.       1\n",
       "E7   I talk to a lot of different people at parties.       4\n",
       "E8         I don't like to draw attention to myself.       3\n",
       "E9       I don't mind being the center of attention.       5\n",
       "E10                     I am quiet around strangers.       1"
      ]
     },
     "execution_count": 2,
     "metadata": {},
     "output_type": "execute_result"
    }
   ],
   "source": [
    "participant_rating = X[0]\n",
    "pd.DataFrame(list(zip(var_labels, participant_rating))[:10], index=var_names[:10], columns=['Statement','Rating'])"
   ]
  },
  {
   "cell_type": "markdown",
   "metadata": {},
   "source": [
    "Each line shows, from left to right,\n",
    "- an abbreviation: E for the factor extraversion plus a statement index;\n",
    "- the actual statement, as presented to the participants;\n",
    "- how the first participant rated the statement, assigning an integer value in 1 (strong disagreement) to 5 (strong agreement). \n",
    "\n",
    "Looks like an extroverted participant!\n",
    "\n",
    "Note, the statements E2, E4, E6, E8 and E10 are _negatively keyed_: a typical extroverted person will rate them low instead of high. "
   ]
  },
  {
   "cell_type": "markdown",
   "metadata": {},
   "source": [
    "The rating behaviour itself varies from participant to participant. Some answer in a more extreme way, preferring ratings of 1 and 5, others use more gentle ratings like 2 and 4. To avoid this affecting our analysis we __standardize the data__: for each participant we center its ratings at the participant's mean rating and scale them by the standard deviation of the participant's ratings."
   ]
  },
  {
   "cell_type": "code",
   "execution_count": 3,
   "metadata": {
    "ExecuteTime": {
     "end_time": "2024-04-25T13:55:23.418796Z",
     "start_time": "2024-04-25T13:55:23.293740Z"
    }
   },
   "outputs": [],
   "source": [
    "from src.utilities import remove_rows_with_zero_std, standardize_ratings\n",
    "\n",
    "X = remove_rows_with_zero_std(X) # we cannot divide by the standard deviation if it is zero\n",
    "X = standardize_ratings(X)"
   ]
  },
  {
   "cell_type": "markdown",
   "metadata": {},
   "source": [
    "The dataset, which previously had discrete values in $\\{1, 2, 3, 4, 5\\}$, now has continuous values. Let's see how this changed the answers of the first participant:"
   ]
  },
  {
   "cell_type": "code",
   "execution_count": 4,
   "metadata": {
    "ExecuteTime": {
     "end_time": "2024-04-25T13:55:23.745232Z",
     "start_time": "2024-04-25T13:55:23.322692Z"
    }
   },
   "outputs": [
    {
     "data": {
      "image/png": "[encoded data removed]",
      "text/plain": [
       "<Figure size 1200x250 with 1 Axes>"
      ]
     },
     "metadata": {},
     "output_type": "display_data"
    }
   ],
   "source": [
    "from src.utilities import styled_bar_plot\n",
    "styled_bar_plot(X[0], 'Ratings of the First Participant', var_names)"
   ]
  },
  {
   "cell_type": "markdown",
   "metadata": {},
   "source": [
    "We get a rough overview of how the first participant rated. \n",
    "Yet, it is hard to read because of the __negatively keyed statements__. For example, it would be nice to tell the participant's extraversion from the plot. \n",
    "\n",
    "To fix this we invert the ratings of all negatively keyed statements. \n",
    "Moreover, we tag the name of all inverted variables by changing, e.g., \"E2\" to \"¬E2\", and the same for the variable labels.\n",
    "This will considerably improve interpretability."
   ]
  },
  {
   "cell_type": "code",
   "execution_count": 5,
   "metadata": {
    "ExecuteTime": {
     "end_time": "2024-04-25T13:55:23.751290Z",
     "start_time": "2024-04-25T13:55:23.694390Z"
    }
   },
   "outputs": [],
   "source": [
    "from src.utilities import keying\n",
    "\n",
    "keyed_X = X * np.asarray(keying)\n",
    "keyed_var_names = np.asarray([l if neg==1 else f'¬{l}' for l, neg in zip(var_names, keying)])\n",
    "keyed_var_labels = np.asarray([s if neg==1 else f'¬{s}' for s, neg in zip(var_labels, keying)])"
   ]
  },
  {
   "cell_type": "markdown",
   "metadata": {},
   "source": [
    "Let us have a look at the answers of the first participant again."
   ]
  },
  {
   "cell_type": "code",
   "execution_count": 6,
   "metadata": {
    "ExecuteTime": {
     "end_time": "2024-04-25T13:55:24.102185Z",
     "start_time": "2024-04-25T13:55:23.699053Z"
    }
   },
   "outputs": [
    {
     "data": {
      "image/png": "[encoded data removed]",
      "text/plain": [
       "<Figure size 1200x250 with 1 Axes>"
      ]
     },
     "metadata": {},
     "output_type": "display_data"
    }
   ],
   "source": [
    "styled_bar_plot(keyed_X[0], 'Keyed Ratings of the First Participant', keyed_var_names)"
   ]
  },
  {
   "cell_type": "markdown",
   "metadata": {},
   "source": [
    "This plot has a remarkably clear structure! It allows for an easy characterization:\n",
    "- The first participant gives a high rating to most statements of the factors E, A, C, and O. Clearly, the participant seems to be an extroverted, agreeable, and conscientious person that is open to experience.\n",
    "- Contrarily, all N statements are rated low, so the participant is not neurotic.\n",
    "\n",
    "This seems like a plausible, even _typical_, combination of the factors. \n",
    "But did we just pick someone with such a clear profile by chance, or does this combination correspond to a typical mindset within all participants of the survey?\n",
    "We will investigate this question in the later section on typical mindsets."
   ]
  },
  {
   "cell_type": "markdown",
   "metadata": {},
   "source": [
    "## 2. Surveys and Features"
   ]
  },
  {
   "cell_type": "markdown",
   "metadata": {},
   "source": [
    "Our library provides a convenient helper object for preparing survey data for tangle analysis.\n",
    "We prepare the data by initializing a `Survey` object and a `SurveyFeatureFactory` object. \n",
    "\n",
    "First, we set up the `Survey` object, which manages survey data and its corresponding metadata."
   ]
  },
  {
   "cell_type": "code",
   "execution_count": 7,
   "metadata": {
    "ExecuteTime": {
     "end_time": "2024-04-25T13:55:24.992580Z",
     "start_time": "2024-04-25T13:55:24.099977Z"
    }
   },
   "outputs": [
    {
     "data": {
      "text/html": [
       "<div>\n",
       "<style scoped>\n",
       "    .dataframe tbody tr th:only-of-type {\n",
       "        vertical-align: middle;\n",
       "    }\n",
       "\n",
       "    .dataframe tbody tr th {\n",
       "        vertical-align: top;\n",
       "    }\n",
       "\n",
       "    .dataframe thead th {\n",
       "        text-align: right;\n",
       "    }\n",
       "</style>\n",
       "<table border=\"1\" class=\"dataframe\">\n",
       "  <thead>\n",
       "    <tr style=\"text-align: right;\">\n",
       "      <th></th>\n",
       "      <th>id</th>\n",
       "      <th>name</th>\n",
       "      <th>type</th>\n",
       "      <th>label</th>\n",
       "      <th>valid_values</th>\n",
       "      <th>invalid_values</th>\n",
       "      <th>is_usable</th>\n",
       "      <th>num_valid_answers</th>\n",
       "      <th>num_unique_answers</th>\n",
       "    </tr>\n",
       "  </thead>\n",
       "  <tbody>\n",
       "    <tr>\n",
       "      <th>E1</th>\n",
       "      <td>0</td>\n",
       "      <td>E1</td>\n",
       "      <td>numerical</td>\n",
       "      <td>I am the life of the party.</td>\n",
       "      <td>{}</td>\n",
       "      <td>{}</td>\n",
       "      <td>True</td>\n",
       "      <td>19360</td>\n",
       "      <td>10326</td>\n",
       "    </tr>\n",
       "    <tr>\n",
       "      <th>¬E2</th>\n",
       "      <td>1</td>\n",
       "      <td>¬E2</td>\n",
       "      <td>numerical</td>\n",
       "      <td>¬I don't talk a lot.</td>\n",
       "      <td>{}</td>\n",
       "      <td>{}</td>\n",
       "      <td>True</td>\n",
       "      <td>19360</td>\n",
       "      <td>10580</td>\n",
       "    </tr>\n",
       "    <tr>\n",
       "      <th>E3</th>\n",
       "      <td>2</td>\n",
       "      <td>E3</td>\n",
       "      <td>numerical</td>\n",
       "      <td>I feel comfortable around people.</td>\n",
       "      <td>{}</td>\n",
       "      <td>{}</td>\n",
       "      <td>True</td>\n",
       "      <td>19360</td>\n",
       "      <td>10196</td>\n",
       "    </tr>\n",
       "    <tr>\n",
       "      <th>¬E4</th>\n",
       "      <td>3</td>\n",
       "      <td>¬E4</td>\n",
       "      <td>numerical</td>\n",
       "      <td>¬I keep in the background.</td>\n",
       "      <td>{}</td>\n",
       "      <td>{}</td>\n",
       "      <td>True</td>\n",
       "      <td>19360</td>\n",
       "      <td>10275</td>\n",
       "    </tr>\n",
       "    <tr>\n",
       "      <th>E5</th>\n",
       "      <td>4</td>\n",
       "      <td>E5</td>\n",
       "      <td>numerical</td>\n",
       "      <td>I start conversations.</td>\n",
       "      <td>{}</td>\n",
       "      <td>{}</td>\n",
       "      <td>True</td>\n",
       "      <td>19360</td>\n",
       "      <td>10217</td>\n",
       "    </tr>\n",
       "    <tr>\n",
       "      <th>¬E6</th>\n",
       "      <td>5</td>\n",
       "      <td>¬E6</td>\n",
       "      <td>numerical</td>\n",
       "      <td>¬I have little to say.</td>\n",
       "      <td>{}</td>\n",
       "      <td>{}</td>\n",
       "      <td>True</td>\n",
       "      <td>19360</td>\n",
       "      <td>9975</td>\n",
       "    </tr>\n",
       "    <tr>\n",
       "      <th>E7</th>\n",
       "      <td>6</td>\n",
       "      <td>E7</td>\n",
       "      <td>numerical</td>\n",
       "      <td>I talk to a lot of different people at parties.</td>\n",
       "      <td>{}</td>\n",
       "      <td>{}</td>\n",
       "      <td>True</td>\n",
       "      <td>19360</td>\n",
       "      <td>10556</td>\n",
       "    </tr>\n",
       "    <tr>\n",
       "      <th>¬E8</th>\n",
       "      <td>7</td>\n",
       "      <td>¬E8</td>\n",
       "      <td>numerical</td>\n",
       "      <td>¬I don't like to draw attention to myself.</td>\n",
       "      <td>{}</td>\n",
       "      <td>{}</td>\n",
       "      <td>True</td>\n",
       "      <td>19360</td>\n",
       "      <td>10379</td>\n",
       "    </tr>\n",
       "    <tr>\n",
       "      <th>E9</th>\n",
       "      <td>8</td>\n",
       "      <td>E9</td>\n",
       "      <td>numerical</td>\n",
       "      <td>I don't mind being the center of attention.</td>\n",
       "      <td>{}</td>\n",
       "      <td>{}</td>\n",
       "      <td>True</td>\n",
       "      <td>19360</td>\n",
       "      <td>10607</td>\n",
       "    </tr>\n",
       "    <tr>\n",
       "      <th>¬E10</th>\n",
       "      <td>9</td>\n",
       "      <td>¬E10</td>\n",
       "      <td>numerical</td>\n",
       "      <td>¬I am quiet around strangers.</td>\n",
       "      <td>{}</td>\n",
       "      <td>{}</td>\n",
       "      <td>True</td>\n",
       "      <td>19360</td>\n",
       "      <td>10225</td>\n",
       "    </tr>\n",
       "    <tr>\n",
       "      <th>N1</th>\n",
       "      <td>10</td>\n",
       "      <td>N1</td>\n",
       "      <td>numerical</td>\n",
       "      <td>I get stressed out easily.</td>\n",
       "      <td>{}</td>\n",
       "      <td>{}</td>\n",
       "      <td>True</td>\n",
       "      <td>19360</td>\n",
       "      <td>10044</td>\n",
       "    </tr>\n",
       "    <tr>\n",
       "      <th>¬N2</th>\n",
       "      <td>11</td>\n",
       "      <td>¬N2</td>\n",
       "      <td>numerical</td>\n",
       "      <td>¬I am relaxed most of the time.</td>\n",
       "      <td>{}</td>\n",
       "      <td>{}</td>\n",
       "      <td>True</td>\n",
       "      <td>19360</td>\n",
       "      <td>10201</td>\n",
       "    </tr>\n",
       "    <tr>\n",
       "      <th>N3</th>\n",
       "      <td>12</td>\n",
       "      <td>N3</td>\n",
       "      <td>numerical</td>\n",
       "      <td>I worry about things.</td>\n",
       "      <td>{}</td>\n",
       "      <td>{}</td>\n",
       "      <td>True</td>\n",
       "      <td>19360</td>\n",
       "      <td>9260</td>\n",
       "    </tr>\n",
       "    <tr>\n",
       "      <th>¬N4</th>\n",
       "      <td>13</td>\n",
       "      <td>¬N4</td>\n",
       "      <td>numerical</td>\n",
       "      <td>¬I seldom feel blue.</td>\n",
       "      <td>{}</td>\n",
       "      <td>{}</td>\n",
       "      <td>True</td>\n",
       "      <td>19360</td>\n",
       "      <td>10281</td>\n",
       "    </tr>\n",
       "    <tr>\n",
       "      <th>N5</th>\n",
       "      <td>14</td>\n",
       "      <td>N5</td>\n",
       "      <td>numerical</td>\n",
       "      <td>I am easily disturbed.</td>\n",
       "      <td>{}</td>\n",
       "      <td>{}</td>\n",
       "      <td>True</td>\n",
       "      <td>19360</td>\n",
       "      <td>10045</td>\n",
       "    </tr>\n",
       "    <tr>\n",
       "      <th>N6</th>\n",
       "      <td>15</td>\n",
       "      <td>N6</td>\n",
       "      <td>numerical</td>\n",
       "      <td>I get upset easily.</td>\n",
       "      <td>{}</td>\n",
       "      <td>{}</td>\n",
       "      <td>True</td>\n",
       "      <td>19360</td>\n",
       "      <td>9939</td>\n",
       "    </tr>\n",
       "    <tr>\n",
       "      <th>N7</th>\n",
       "      <td>16</td>\n",
       "      <td>N7</td>\n",
       "      <td>numerical</td>\n",
       "      <td>I change my mood a lot.</td>\n",
       "      <td>{}</td>\n",
       "      <td>{}</td>\n",
       "      <td>True</td>\n",
       "      <td>19360</td>\n",
       "      <td>9798</td>\n",
       "    </tr>\n",
       "    <tr>\n",
       "      <th>N8</th>\n",
       "      <td>17</td>\n",
       "      <td>N8</td>\n",
       "      <td>numerical</td>\n",
       "      <td>I have frequent mood swings.</td>\n",
       "      <td>{}</td>\n",
       "      <td>{}</td>\n",
       "      <td>True</td>\n",
       "      <td>19360</td>\n",
       "      <td>9858</td>\n",
       "    </tr>\n",
       "    <tr>\n",
       "      <th>N9</th>\n",
       "      <td>18</td>\n",
       "      <td>N9</td>\n",
       "      <td>numerical</td>\n",
       "      <td>I get irritated easily.</td>\n",
       "      <td>{}</td>\n",
       "      <td>{}</td>\n",
       "      <td>True</td>\n",
       "      <td>19360</td>\n",
       "      <td>9884</td>\n",
       "    </tr>\n",
       "    <tr>\n",
       "      <th>N10</th>\n",
       "      <td>19</td>\n",
       "      <td>N10</td>\n",
       "      <td>numerical</td>\n",
       "      <td>I often feel blue.</td>\n",
       "      <td>{}</td>\n",
       "      <td>{}</td>\n",
       "      <td>True</td>\n",
       "      <td>19360</td>\n",
       "      <td>10059</td>\n",
       "    </tr>\n",
       "    <tr>\n",
       "      <th>¬A1</th>\n",
       "      <td>20</td>\n",
       "      <td>¬A1</td>\n",
       "      <td>numerical</td>\n",
       "      <td>¬I feel little concern for others.</td>\n",
       "      <td>{}</td>\n",
       "      <td>{}</td>\n",
       "      <td>True</td>\n",
       "      <td>19360</td>\n",
       "      <td>10004</td>\n",
       "    </tr>\n",
       "    <tr>\n",
       "      <th>A2</th>\n",
       "      <td>21</td>\n",
       "      <td>A2</td>\n",
       "      <td>numerical</td>\n",
       "      <td>I am interested in people.</td>\n",
       "      <td>{}</td>\n",
       "      <td>{}</td>\n",
       "      <td>True</td>\n",
       "      <td>19360</td>\n",
       "      <td>9362</td>\n",
       "    </tr>\n",
       "    <tr>\n",
       "      <th>¬A3</th>\n",
       "      <td>22</td>\n",
       "      <td>¬A3</td>\n",
       "      <td>numerical</td>\n",
       "      <td>¬I insult people.</td>\n",
       "      <td>{}</td>\n",
       "      <td>{}</td>\n",
       "      <td>True</td>\n",
       "      <td>19360</td>\n",
       "      <td>9795</td>\n",
       "    </tr>\n",
       "    <tr>\n",
       "      <th>A4</th>\n",
       "      <td>23</td>\n",
       "      <td>A4</td>\n",
       "      <td>numerical</td>\n",
       "      <td>I sympathize with others' feelings.</td>\n",
       "      <td>{}</td>\n",
       "      <td>{}</td>\n",
       "      <td>True</td>\n",
       "      <td>19360</td>\n",
       "      <td>8994</td>\n",
       "    </tr>\n",
       "    <tr>\n",
       "      <th>¬A5</th>\n",
       "      <td>24</td>\n",
       "      <td>¬A5</td>\n",
       "      <td>numerical</td>\n",
       "      <td>¬I am not interested in other people's problems.</td>\n",
       "      <td>{}</td>\n",
       "      <td>{}</td>\n",
       "      <td>True</td>\n",
       "      <td>19360</td>\n",
       "      <td>9611</td>\n",
       "    </tr>\n",
       "    <tr>\n",
       "      <th>A6</th>\n",
       "      <td>25</td>\n",
       "      <td>A6</td>\n",
       "      <td>numerical</td>\n",
       "      <td>I have a soft heart.</td>\n",
       "      <td>{}</td>\n",
       "      <td>{}</td>\n",
       "      <td>True</td>\n",
       "      <td>19360</td>\n",
       "      <td>9405</td>\n",
       "    </tr>\n",
       "    <tr>\n",
       "      <th>¬A7</th>\n",
       "      <td>26</td>\n",
       "      <td>¬A7</td>\n",
       "      <td>numerical</td>\n",
       "      <td>¬I am not really interested in others.</td>\n",
       "      <td>{}</td>\n",
       "      <td>{}</td>\n",
       "      <td>True</td>\n",
       "      <td>19360</td>\n",
       "      <td>9407</td>\n",
       "    </tr>\n",
       "    <tr>\n",
       "      <th>A8</th>\n",
       "      <td>27</td>\n",
       "      <td>A8</td>\n",
       "      <td>numerical</td>\n",
       "      <td>I take time out for others.</td>\n",
       "      <td>{}</td>\n",
       "      <td>{}</td>\n",
       "      <td>True</td>\n",
       "      <td>19360</td>\n",
       "      <td>9392</td>\n",
       "    </tr>\n",
       "    <tr>\n",
       "      <th>A9</th>\n",
       "      <td>28</td>\n",
       "      <td>A9</td>\n",
       "      <td>numerical</td>\n",
       "      <td>I feel others' emotions.</td>\n",
       "      <td>{}</td>\n",
       "      <td>{}</td>\n",
       "      <td>True</td>\n",
       "      <td>19360</td>\n",
       "      <td>9048</td>\n",
       "    </tr>\n",
       "    <tr>\n",
       "      <th>A10</th>\n",
       "      <td>29</td>\n",
       "      <td>A10</td>\n",
       "      <td>numerical</td>\n",
       "      <td>I make people feel at ease.</td>\n",
       "      <td>{}</td>\n",
       "      <td>{}</td>\n",
       "      <td>True</td>\n",
       "      <td>19360</td>\n",
       "      <td>9456</td>\n",
       "    </tr>\n",
       "    <tr>\n",
       "      <th>C1</th>\n",
       "      <td>30</td>\n",
       "      <td>C1</td>\n",
       "      <td>numerical</td>\n",
       "      <td>I am always prepared.</td>\n",
       "      <td>{}</td>\n",
       "      <td>{}</td>\n",
       "      <td>True</td>\n",
       "      <td>19360</td>\n",
       "      <td>10046</td>\n",
       "    </tr>\n",
       "    <tr>\n",
       "      <th>¬C2</th>\n",
       "      <td>31</td>\n",
       "      <td>¬C2</td>\n",
       "      <td>numerical</td>\n",
       "      <td>¬I leave my belongings around.</td>\n",
       "      <td>{}</td>\n",
       "      <td>{}</td>\n",
       "      <td>True</td>\n",
       "      <td>19360</td>\n",
       "      <td>10582</td>\n",
       "    </tr>\n",
       "    <tr>\n",
       "      <th>C3</th>\n",
       "      <td>32</td>\n",
       "      <td>C3</td>\n",
       "      <td>numerical</td>\n",
       "      <td>I pay attention to details.</td>\n",
       "      <td>{}</td>\n",
       "      <td>{}</td>\n",
       "      <td>True</td>\n",
       "      <td>19360</td>\n",
       "      <td>9066</td>\n",
       "    </tr>\n",
       "    <tr>\n",
       "      <th>¬C4</th>\n",
       "      <td>33</td>\n",
       "      <td>¬C4</td>\n",
       "      <td>numerical</td>\n",
       "      <td>¬I make a mess of things.</td>\n",
       "      <td>{}</td>\n",
       "      <td>{}</td>\n",
       "      <td>True</td>\n",
       "      <td>19360</td>\n",
       "      <td>10050</td>\n",
       "    </tr>\n",
       "    <tr>\n",
       "      <th>C5</th>\n",
       "      <td>34</td>\n",
       "      <td>C5</td>\n",
       "      <td>numerical</td>\n",
       "      <td>I get chores done right away.</td>\n",
       "      <td>{}</td>\n",
       "      <td>{}</td>\n",
       "      <td>True</td>\n",
       "      <td>19360</td>\n",
       "      <td>10433</td>\n",
       "    </tr>\n",
       "    <tr>\n",
       "      <th>¬C6</th>\n",
       "      <td>35</td>\n",
       "      <td>¬C6</td>\n",
       "      <td>numerical</td>\n",
       "      <td>¬I often forget to put things back in their pr...</td>\n",
       "      <td>{}</td>\n",
       "      <td>{}</td>\n",
       "      <td>True</td>\n",
       "      <td>19360</td>\n",
       "      <td>10453</td>\n",
       "    </tr>\n",
       "    <tr>\n",
       "      <th>C7</th>\n",
       "      <td>36</td>\n",
       "      <td>C7</td>\n",
       "      <td>numerical</td>\n",
       "      <td>I like order.</td>\n",
       "      <td>{}</td>\n",
       "      <td>{}</td>\n",
       "      <td>True</td>\n",
       "      <td>19360</td>\n",
       "      <td>9933</td>\n",
       "    </tr>\n",
       "    <tr>\n",
       "      <th>¬C8</th>\n",
       "      <td>37</td>\n",
       "      <td>¬C8</td>\n",
       "      <td>numerical</td>\n",
       "      <td>¬I shirk my duties.</td>\n",
       "      <td>{}</td>\n",
       "      <td>{}</td>\n",
       "      <td>True</td>\n",
       "      <td>19360</td>\n",
       "      <td>9818</td>\n",
       "    </tr>\n",
       "    <tr>\n",
       "      <th>C9</th>\n",
       "      <td>38</td>\n",
       "      <td>C9</td>\n",
       "      <td>numerical</td>\n",
       "      <td>I follow a schedule.</td>\n",
       "      <td>{}</td>\n",
       "      <td>{}</td>\n",
       "      <td>True</td>\n",
       "      <td>19360</td>\n",
       "      <td>10394</td>\n",
       "    </tr>\n",
       "    <tr>\n",
       "      <th>C10</th>\n",
       "      <td>39</td>\n",
       "      <td>C10</td>\n",
       "      <td>numerical</td>\n",
       "      <td>I am exacting in my work.</td>\n",
       "      <td>{}</td>\n",
       "      <td>{}</td>\n",
       "      <td>True</td>\n",
       "      <td>19360</td>\n",
       "      <td>9338</td>\n",
       "    </tr>\n",
       "    <tr>\n",
       "      <th>O1</th>\n",
       "      <td>40</td>\n",
       "      <td>O1</td>\n",
       "      <td>numerical</td>\n",
       "      <td>I have a rich vocabulary.</td>\n",
       "      <td>{}</td>\n",
       "      <td>{}</td>\n",
       "      <td>True</td>\n",
       "      <td>19360</td>\n",
       "      <td>9821</td>\n",
       "    </tr>\n",
       "    <tr>\n",
       "      <th>¬O2</th>\n",
       "      <td>41</td>\n",
       "      <td>¬O2</td>\n",
       "      <td>numerical</td>\n",
       "      <td>¬I have difficulty understanding abstract ideas.</td>\n",
       "      <td>{}</td>\n",
       "      <td>{}</td>\n",
       "      <td>True</td>\n",
       "      <td>19360</td>\n",
       "      <td>9469</td>\n",
       "    </tr>\n",
       "    <tr>\n",
       "      <th>O3</th>\n",
       "      <td>42</td>\n",
       "      <td>O3</td>\n",
       "      <td>numerical</td>\n",
       "      <td>I have a vivid imagination.</td>\n",
       "      <td>{}</td>\n",
       "      <td>{}</td>\n",
       "      <td>True</td>\n",
       "      <td>19360</td>\n",
       "      <td>8783</td>\n",
       "    </tr>\n",
       "    <tr>\n",
       "      <th>¬O4</th>\n",
       "      <td>43</td>\n",
       "      <td>¬O4</td>\n",
       "      <td>numerical</td>\n",
       "      <td>¬I am not interested in abstract ideas.</td>\n",
       "      <td>{}</td>\n",
       "      <td>{}</td>\n",
       "      <td>True</td>\n",
       "      <td>19360</td>\n",
       "      <td>9326</td>\n",
       "    </tr>\n",
       "    <tr>\n",
       "      <th>O5</th>\n",
       "      <td>44</td>\n",
       "      <td>O5</td>\n",
       "      <td>numerical</td>\n",
       "      <td>I have excellent ideas.</td>\n",
       "      <td>{}</td>\n",
       "      <td>{}</td>\n",
       "      <td>True</td>\n",
       "      <td>19360</td>\n",
       "      <td>8948</td>\n",
       "    </tr>\n",
       "    <tr>\n",
       "      <th>¬O6</th>\n",
       "      <td>45</td>\n",
       "      <td>¬O6</td>\n",
       "      <td>numerical</td>\n",
       "      <td>¬I do not have a good imagination.</td>\n",
       "      <td>{}</td>\n",
       "      <td>{}</td>\n",
       "      <td>True</td>\n",
       "      <td>19360</td>\n",
       "      <td>8764</td>\n",
       "    </tr>\n",
       "    <tr>\n",
       "      <th>O7</th>\n",
       "      <td>46</td>\n",
       "      <td>O7</td>\n",
       "      <td>numerical</td>\n",
       "      <td>I am quick to understand things.</td>\n",
       "      <td>{}</td>\n",
       "      <td>{}</td>\n",
       "      <td>True</td>\n",
       "      <td>19360</td>\n",
       "      <td>8791</td>\n",
       "    </tr>\n",
       "    <tr>\n",
       "      <th>O8</th>\n",
       "      <td>47</td>\n",
       "      <td>O8</td>\n",
       "      <td>numerical</td>\n",
       "      <td>I use difficult words.</td>\n",
       "      <td>{}</td>\n",
       "      <td>{}</td>\n",
       "      <td>True</td>\n",
       "      <td>19360</td>\n",
       "      <td>10294</td>\n",
       "    </tr>\n",
       "    <tr>\n",
       "      <th>O9</th>\n",
       "      <td>48</td>\n",
       "      <td>O9</td>\n",
       "      <td>numerical</td>\n",
       "      <td>I spend time reflecting on things.</td>\n",
       "      <td>{}</td>\n",
       "      <td>{}</td>\n",
       "      <td>True</td>\n",
       "      <td>19360</td>\n",
       "      <td>8598</td>\n",
       "    </tr>\n",
       "    <tr>\n",
       "      <th>O10</th>\n",
       "      <td>49</td>\n",
       "      <td>O10</td>\n",
       "      <td>numerical</td>\n",
       "      <td>I am full of ideas.</td>\n",
       "      <td>{}</td>\n",
       "      <td>{}</td>\n",
       "      <td>True</td>\n",
       "      <td>19360</td>\n",
       "      <td>8758</td>\n",
       "    </tr>\n",
       "  </tbody>\n",
       "</table>\n",
       "</div>"
      ],
      "text/plain": [
       "      id  name       type                                              label  \\\n",
       "E1     0    E1  numerical                        I am the life of the party.   \n",
       "¬E2    1   ¬E2  numerical                               ¬I don't talk a lot.   \n",
       "E3     2    E3  numerical                  I feel comfortable around people.   \n",
       "¬E4    3   ¬E4  numerical                         ¬I keep in the background.   \n",
       "E5     4    E5  numerical                             I start conversations.   \n",
       "¬E6    5   ¬E6  numerical                             ¬I have little to say.   \n",
       "E7     6    E7  numerical    I talk to a lot of different people at parties.   \n",
       "¬E8    7   ¬E8  numerical         ¬I don't like to draw attention to myself.   \n",
       "E9     8    E9  numerical        I don't mind being the center of attention.   \n",
       "¬E10   9  ¬E10  numerical                      ¬I am quiet around strangers.   \n",
       "N1    10    N1  numerical                         I get stressed out easily.   \n",
       "¬N2   11   ¬N2  numerical                    ¬I am relaxed most of the time.   \n",
       "N3    12    N3  numerical                              I worry about things.   \n",
       "¬N4   13   ¬N4  numerical                               ¬I seldom feel blue.   \n",
       "N5    14    N5  numerical                             I am easily disturbed.   \n",
       "N6    15    N6  numerical                                I get upset easily.   \n",
       "N7    16    N7  numerical                            I change my mood a lot.   \n",
       "N8    17    N8  numerical                       I have frequent mood swings.   \n",
       "N9    18    N9  numerical                            I get irritated easily.   \n",
       "N10   19   N10  numerical                                 I often feel blue.   \n",
       "¬A1   20   ¬A1  numerical                 ¬I feel little concern for others.   \n",
       "A2    21    A2  numerical                         I am interested in people.   \n",
       "¬A3   22   ¬A3  numerical                                  ¬I insult people.   \n",
       "A4    23    A4  numerical                I sympathize with others' feelings.   \n",
       "¬A5   24   ¬A5  numerical   ¬I am not interested in other people's problems.   \n",
       "A6    25    A6  numerical                               I have a soft heart.   \n",
       "¬A7   26   ¬A7  numerical             ¬I am not really interested in others.   \n",
       "A8    27    A8  numerical                        I take time out for others.   \n",
       "A9    28    A9  numerical                           I feel others' emotions.   \n",
       "A10   29   A10  numerical                        I make people feel at ease.   \n",
       "C1    30    C1  numerical                              I am always prepared.   \n",
       "¬C2   31   ¬C2  numerical                     ¬I leave my belongings around.   \n",
       "C3    32    C3  numerical                        I pay attention to details.   \n",
       "¬C4   33   ¬C4  numerical                          ¬I make a mess of things.   \n",
       "C5    34    C5  numerical                      I get chores done right away.   \n",
       "¬C6   35   ¬C6  numerical  ¬I often forget to put things back in their pr...   \n",
       "C7    36    C7  numerical                                      I like order.   \n",
       "¬C8   37   ¬C8  numerical                                ¬I shirk my duties.   \n",
       "C9    38    C9  numerical                               I follow a schedule.   \n",
       "C10   39   C10  numerical                          I am exacting in my work.   \n",
       "O1    40    O1  numerical                          I have a rich vocabulary.   \n",
       "¬O2   41   ¬O2  numerical   ¬I have difficulty understanding abstract ideas.   \n",
       "O3    42    O3  numerical                        I have a vivid imagination.   \n",
       "¬O4   43   ¬O4  numerical            ¬I am not interested in abstract ideas.   \n",
       "O5    44    O5  numerical                            I have excellent ideas.   \n",
       "¬O6   45   ¬O6  numerical                 ¬I do not have a good imagination.   \n",
       "O7    46    O7  numerical                   I am quick to understand things.   \n",
       "O8    47    O8  numerical                             I use difficult words.   \n",
       "O9    48    O9  numerical                 I spend time reflecting on things.   \n",
       "O10   49   O10  numerical                                I am full of ideas.   \n",
       "\n",
       "     valid_values invalid_values  is_usable  num_valid_answers  \\\n",
       "E1             {}             {}       True              19360   \n",
       "¬E2            {}             {}       True              19360   \n",
       "E3             {}             {}       True              19360   \n",
       "¬E4            {}             {}       True              19360   \n",
       "E5             {}             {}       True              19360   \n",
       "¬E6            {}             {}       True              19360   \n",
       "E7             {}             {}       True              19360   \n",
       "¬E8            {}             {}       True              19360   \n",
       "E9             {}             {}       True              19360   \n",
       "¬E10           {}             {}       True              19360   \n",
       "N1             {}             {}       True              19360   \n",
       "¬N2            {}             {}       True              19360   \n",
       "N3             {}             {}       True              19360   \n",
       "¬N4            {}             {}       True              19360   \n",
       "N5             {}             {}       True              19360   \n",
       "N6             {}             {}       True              19360   \n",
       "N7             {}             {}       True              19360   \n",
       "N8             {}             {}       True              19360   \n",
       "N9             {}             {}       True              19360   \n",
       "N10            {}             {}       True              19360   \n",
       "¬A1            {}             {}       True              19360   \n",
       "A2             {}             {}       True              19360   \n",
       "¬A3            {}             {}       True              19360   \n",
       "A4             {}             {}       True              19360   \n",
       "¬A5            {}             {}       True              19360   \n",
       "A6             {}             {}       True              19360   \n",
       "¬A7            {}             {}       True              19360   \n",
       "A8             {}             {}       True              19360   \n",
       "A9             {}             {}       True              19360   \n",
       "A10            {}             {}       True              19360   \n",
       "C1             {}             {}       True              19360   \n",
       "¬C2            {}             {}       True              19360   \n",
       "C3             {}             {}       True              19360   \n",
       "¬C4            {}             {}       True              19360   \n",
       "C5             {}             {}       True              19360   \n",
       "¬C6            {}             {}       True              19360   \n",
       "C7             {}             {}       True              19360   \n",
       "¬C8            {}             {}       True              19360   \n",
       "C9             {}             {}       True              19360   \n",
       "C10            {}             {}       True              19360   \n",
       "O1             {}             {}       True              19360   \n",
       "¬O2            {}             {}       True              19360   \n",
       "O3             {}             {}       True              19360   \n",
       "¬O4            {}             {}       True              19360   \n",
       "O5             {}             {}       True              19360   \n",
       "¬O6            {}             {}       True              19360   \n",
       "O7             {}             {}       True              19360   \n",
       "O8             {}             {}       True              19360   \n",
       "O9             {}             {}       True              19360   \n",
       "O10            {}             {}       True              19360   \n",
       "\n",
       "      num_unique_answers  \n",
       "E1                 10326  \n",
       "¬E2                10580  \n",
       "E3                 10196  \n",
       "¬E4                10275  \n",
       "E5                 10217  \n",
       "¬E6                 9975  \n",
       "E7                 10556  \n",
       "¬E8                10379  \n",
       "E9                 10607  \n",
       "¬E10               10225  \n",
       "N1                 10044  \n",
       "¬N2                10201  \n",
       "N3                  9260  \n",
       "¬N4                10281  \n",
       "N5                 10045  \n",
       "N6                  9939  \n",
       "N7                  9798  \n",
       "N8                  9858  \n",
       "N9                  9884  \n",
       "N10                10059  \n",
       "¬A1                10004  \n",
       "A2                  9362  \n",
       "¬A3                 9795  \n",
       "A4                  8994  \n",
       "¬A5                 9611  \n",
       "A6                  9405  \n",
       "¬A7                 9407  \n",
       "A8                  9392  \n",
       "A9                  9048  \n",
       "A10                 9456  \n",
       "C1                 10046  \n",
       "¬C2                10582  \n",
       "C3                  9066  \n",
       "¬C4                10050  \n",
       "C5                 10433  \n",
       "¬C6                10453  \n",
       "C7                  9933  \n",
       "¬C8                 9818  \n",
       "C9                 10394  \n",
       "C10                 9338  \n",
       "O1                  9821  \n",
       "¬O2                 9469  \n",
       "O3                  8783  \n",
       "¬O4                 9326  \n",
       "O5                  8948  \n",
       "¬O6                 8764  \n",
       "O7                  8791  \n",
       "O8                 10294  \n",
       "O9                  8598  \n",
       "O10                 8758  "
      ]
     },
     "execution_count": 7,
     "metadata": {},
     "output_type": "execute_result"
    }
   ],
   "source": [
    "from tangles.convenience import Survey\n",
    "\n",
    "survey = Survey(pd.DataFrame(keyed_X, columns = keyed_var_names))\n",
    "survey.set_variable_labels(keyed_var_labels)\n",
    "survey.set_variable_types('numerical')\n",
    "\n",
    "survey.variable_info() # checking that everything is set up correctly"
   ]
  },
  {
   "cell_type": "markdown",
   "metadata": {},
   "source": [
    "Everything looks just as expected. "
   ]
  },
  {
   "cell_type": "markdown",
   "metadata": {},
   "source": [
    "Now, we will __define the features__. \n",
    "\n",
    "For each statement we define a feature that contains all participants who \"agree\" with the statement. For our purposes, we say that a participant _agrees_ with a statement, if the participant's rating of the statement is greater than the median of all ratings of that statement.\n",
    "Conversely, we say that the participant disagrees, if the rating is less than or equal to the median.\n",
    "\n",
    "To implement this, we configure a `SurveyFeatureFactory`. Together with the `Survey` object, this will be all we need to search for tangles."
   ]
  },
  {
   "cell_type": "code",
   "execution_count": 8,
   "metadata": {
    "ExecuteTime": {
     "end_time": "2024-04-25T13:55:25.003337Z",
     "start_time": "2024-04-25T13:55:24.990617Z"
    }
   },
   "outputs": [],
   "source": [
    "from tangles.convenience import SimpleSurveyFeatureFactory\n",
    "\n",
    "# the invalid_values parameter is solely for compatibility with the feature factory \n",
    "def split_at_median(single_col, invalid_values):\n",
    "    single_col = np.array(single_col)\n",
    "    median = np.median(single_col, axis=0)\n",
    "    feature = (single_col > median).astype(int) - (single_col <= median)\n",
    "    metadata = np.empty(1, dtype=object)\n",
    "    metadata[0] = ('>', median)\n",
    "    return feature[..., np.newaxis], metadata\n",
    "\n",
    "def create_median_feature_factory(survey):\n",
    "    median_feature_factory = SimpleSurveyFeatureFactory(survey)\n",
    "    median_feature_factory.numvar_func = split_at_median\n",
    "    return median_feature_factory"
   ]
  },
  {
   "cell_type": "markdown",
   "metadata": {},
   "source": [
    "Using the median to define the features is but one of many options. A different definition comes with a different interpretation of the features and, consequently, a different interpretation of the tangles we will find. \n",
    "\n",
    "The possibility to choose the definition of the features is an important tool in the tangle search process that opens up possibilities for the user to customise their analysis."
   ]
  },
  {
   "cell_type": "markdown",
   "metadata": {},
   "source": [
    "## 3. Verifying the Coherence of the Factors"
   ]
  },
  {
   "cell_type": "markdown",
   "metadata": {},
   "source": [
    "We saw above that an extroverted person will probably rate all ten statements related to extraversion high (after reversing negatively keyed statements), indicating that all ten statements hold for this person. Thus, we suspect that if for a participant one of the E statements holds, typically all other E statements hold as well. We will verify that this is indeed the case."
   ]
  },
  {
   "cell_type": "markdown",
   "metadata": {},
   "source": [
    "### 3.1 The coherence of factor E (extraversion)"
   ]
  },
  {
   "cell_type": "markdown",
   "metadata": {},
   "source": [
    "To do this, we search for tangles on the ten features corresponding to the statements E1, E2, ..., E10. Using `select_questions()`, we create a new survey that contains only E statements, and the `SurveyTangles.search()` method lets us search for tangles on the features created for those statements."
   ]
  },
  {
   "cell_type": "code",
   "execution_count": 9,
   "metadata": {
    "ExecuteTime": {
     "end_time": "2024-04-25T13:55:25.088871Z",
     "start_time": "2024-04-25T13:55:24.996641Z"
    },
    "editable": true,
    "slideshow": {
     "slide_type": ""
    },
    "tags": [
     "remove_output"
    ]
   },
   "outputs": [
    {
     "name": "stdout",
     "output_type": "stream",
     "text": [
      "creating features... finished                                                                                                                         \n",
      "[ tree height=10, number of tangles=3, limit=3207.0 ]: appending finished                                                                             \n"
     ]
    }
   ],
   "source": [
    "from tangles.convenience import SurveyTangles\n",
    "\n",
    "E_questions = survey.select_questions(lambda variable: 'E' in variable.name)\n",
    "\n",
    "agreement = 4000\n",
    "tangles = SurveyTangles.search(E_questions, agreement, feature_factory=create_median_feature_factory(E_questions))"
   ]
  },
  {
   "cell_type": "markdown",
   "metadata": {},
   "source": [
    "A brief word on the __agreement value__:  \n",
    "As a rule of thumb, 10% of the data set size (in this case approximately 2000) is a good value to start with and will often yield multiple interpretable tangles.\n",
    "\n",
    "So why do we use agreement 4000? Because we are interested in only the most typical combinations of statement ratings. That is, in terms of tangle terminology, the tangles with the highest agreement. By a little trial and error, agreement of 4000 turns out to be a good value, giving us the first complete tangles.\n",
    "\n",
    "Let's inspect the tangles we found using the tangle matrix."
   ]
  },
  {
   "cell_type": "code",
   "execution_count": 10,
   "metadata": {
    "ExecuteTime": {
     "end_time": "2024-04-25T13:55:25.287644Z",
     "start_time": "2024-04-25T13:55:25.068743Z"
    }
   },
   "outputs": [
    {
     "data": {
      "image/png": "[encoded data removed]",
      "text/plain": [
       "<Figure size 640x480 with 1 Axes>"
      ]
     },
     "metadata": {},
     "output_type": "display_data"
    }
   ],
   "source": [
    "from src.utilities import plot_tangle_matrix\n",
    "\n",
    "tangle_matrix = tangles.tangle_matrix()\n",
    "plot_tangle_matrix(tangle_matrix, f'Tangle Matrix for Factor E (agreement={agreement})', E_questions.variable_info()['name']);"
   ]
  },
  {
   "cell_type": "markdown",
   "metadata": {},
   "source": [
    "Row by row, the tangle matrix shows all tangles that were found. Focusing on one tangle, the column entries specify how the tangle orients the features identified by the labels of the columns. Here, a blue entry indicates disagreement to the statement and a yellow entry indicates agreement to the statement."
   ]
  },
  {
   "cell_type": "markdown",
   "metadata": {},
   "source": [
    "We find two very characteristic tangles. That's a great result! Let's interpret them:  \n",
    "The two most typical ways to rate the statements of factor E is to \n",
    "- either agree to none of them  (tangle 0)\n",
    "- or to agree to all of them (tangle 1).\n",
    "\n",
    "Thus, we verified that the statements of factor E form a coherent structure within the dataset."
   ]
  },
  {
   "cell_type": "markdown",
   "metadata": {},
   "source": [
    "### 3.2 The coherence of all factors"
   ]
  },
  {
   "cell_type": "markdown",
   "metadata": {},
   "source": [
    "Let's check the same for all five factors. "
   ]
  },
  {
   "cell_type": "code",
   "execution_count": 11,
   "metadata": {
    "ExecuteTime": {
     "end_time": "2024-04-25T13:55:25.290276Z",
     "start_time": "2024-04-25T13:55:25.271124Z"
    }
   },
   "outputs": [],
   "source": [
    "agreements = {'E': 4000, 'N': 3500, 'A': 3000, 'C': 3000, 'O': 2600}"
   ]
  },
  {
   "cell_type": "markdown",
   "metadata": {},
   "source": [
    "We found the agreement values as we did for the factor E above. \n",
    "\n",
    "The fact that for factor O the agreement needs to be chosen smaller than for factor E is interesting:  \n",
    "We can think of the agreement value as a measure of how typical the tangle is: the fact that the O tangles have a lower agreement value than the E tangles indicates that agreeing or disagreeing to all O factors is less typical than agreeing or disagreeing to all E factors."
   ]
  },
  {
   "cell_type": "code",
   "execution_count": 12,
   "metadata": {
    "ExecuteTime": {
     "end_time": "2024-04-25T13:55:26.462274Z",
     "start_time": "2024-04-25T13:55:25.274910Z"
    }
   },
   "outputs": [
    {
     "data": {
      "image/png": "[encoded data removed]",
      "text/plain": [
       "<Figure size 1500x400 with 5 Axes>"
      ]
     },
     "metadata": {},
     "output_type": "display_data"
    }
   ],
   "source": [
    "fig, axs = plt.subplots(1, 5, figsize=(15,4))\n",
    "for i, factor in enumerate(factors):\n",
    "    questions_selection = survey.select_questions(lambda variable: factor in variable.name)\n",
    "    feat_fac = create_median_feature_factory(questions_selection)\n",
    "    agreement = agreements[factor]\n",
    "    tangles = SurveyTangles.search(questions_selection, agreement, feature_factory=feat_fac, progress_callback=None)\n",
    "    plot_tangle_matrix(tangles.tangle_matrix(), f'Factor {factor} (agreement={agreement})', \n",
    "                       questions_selection.variable_info()['name'], ax=axs[i])\n",
    "\n",
    "fig.tight_layout()"
   ]
  },
  {
   "cell_type": "markdown",
   "metadata": {},
   "source": [
    "Excellent, we can verify the coherence of all five factors.\n",
    "\n",
    "What about the __incomplete tangles__ of factors A, C and O? In scenarios where we are working with an order function, incomplete tangles can be valuable for interpretation. Remember that the order function determines the order in which the tangle search tries to specify the potential features. Usually we trie to choose an order function such that the tangle search specifies potential features of more general statements first and of more specific statements last. Consequently, an incomplete tangle is a tangle that describes groups in more general terms, while a complete tangle goes into more details. We will introduce an order function later in this notebook.\n",
    "\n",
    "We don't use an order function here, so the incomplete tangles aren't valuable for interpretation and we can ignore them.\n",
    "\n",
    "However, we can explain the incomplete tangles to give some insights into the search process. Let's focus on the factor A:  \n",
    "- Remember that, searching for tangles, we try to find specifications of the given ten potential features, such that the intersection of any three of the features is larger than the agreement value. The tangle search checks this feature by feature, in our case starting with A1 and A2 (going from left to right in the matrix). \n",
    "- The incomplete tangles specify the first two features A1 and A2 differently. Tangle 1 corresponds to a participant feeling little concern for others but at the same time being interested in people (and vice versa for tangle 0). This is a somewhat contradictory combination of statements, so the number of such participants is not large. Yet, it is still greater than the agreement value, so the tangle search doesn't stop trying to specify features. \n",
    "- In the next step, the tangle search checks triples of specifications of A1, A2 and A3 (i.e. it intersect the previous intersections of A1 and A2 with both specifications of A3). This leads to intersections that are smaller than the agreement value. As a result, the tangle search stops extending these tangles any further and the tangles are shown in the tangle matrix with only A1 and A2 specified."
   ]
  },
  {
   "cell_type": "markdown",
   "metadata": {},
   "source": [
    "## 4. Typical Mindsets <a id='typical_mindsets'></a> \n"
   ]
  },
  {
   "cell_type": "markdown",
   "metadata": {},
   "source": [
    "In the previous section, we searched tangles separately for the five factors E, N, A, C and O. Now, we will search for tangles on all factors at once. This will let us identify typical mindsets of the participants of the survey.\n",
    "\n",
    "Again, we start with a relatively high agreement."
   ]
  },
  {
   "cell_type": "code",
   "execution_count": 13,
   "metadata": {
    "ExecuteTime": {
     "end_time": "2024-04-25T13:55:27.539974Z",
     "start_time": "2024-04-25T13:55:26.461023Z"
    },
    "editable": true,
    "slideshow": {
     "slide_type": ""
    },
    "tags": [
     "remove_output"
    ]
   },
   "outputs": [
    {
     "name": "stdout",
     "output_type": "stream",
     "text": [
      "creating features... finished                                                                                                                         \n",
      "[ tree height=50, number of tangles=14, limit=1792.0 ]: appending finished                                                                            \n"
     ]
    }
   ],
   "source": [
    "agreement = 1800\n",
    "tangles = SurveyTangles.search(survey, agreement, feature_factory=create_median_feature_factory(survey))"
   ]
  },
  {
   "cell_type": "markdown",
   "metadata": {},
   "source": [
    "As in the previous section, only the complete tangles are of interest because we don't use an order function yet."
   ]
  },
  {
   "cell_type": "code",
   "execution_count": 14,
   "metadata": {
    "ExecuteTime": {
     "end_time": "2024-04-25T13:55:27.926911Z",
     "start_time": "2024-04-25T13:55:27.538720Z"
    },
    "editable": true,
    "slideshow": {
     "slide_type": ""
    },
    "tags": []
   },
   "outputs": [
    {
     "data": {
      "image/png": "[encoded data removed]",
      "text/plain": [
       "<Figure size 1000x500 with 1 Axes>"
      ]
     },
     "metadata": {},
     "output_type": "display_data"
    }
   ],
   "source": [
    "from src.utilities import plot_big5_tangle_matrix\n",
    "\n",
    "plot_big5_tangle_matrix(tangles.tangle_matrix(), agreement, survey.variable_info()['name'])"
   ]
  },
  {
   "cell_type": "markdown",
   "metadata": {},
   "source": [
    "Interesting! The two most common combinations of statements perfectly align with the factors, i.e. all statements within a factor are specified in the same way. This is not too surprising: we already saw this structure in the previous section.\n",
    "\n",
    "What's new is that the most typical mindsets that are present in the participants are\n",
    "- Tangle 1: people who are extroverted (E), agreeable (A), conscientious (C) and open for experience (O), but not neurotic (N)\n",
    "- Tangle 0: people with the opposite personality traits\n",
    "\n",
    "These mindsets follow an intuition for what personality traits typically appear together. For example, you wouldn't usually expect a person to be neurotic and extroverted at the same time.  "
   ]
  },
  {
   "cell_type": "markdown",
   "metadata": {},
   "source": [
    "Using the `change_agreement()` method, we can lower the agreement value and see what new tangles will be found, without having to redo the calculations necessary for the higher agreement value in the previous search."
   ]
  },
  {
   "cell_type": "code",
   "execution_count": 15,
   "metadata": {
    "ExecuteTime": {
     "end_time": "2024-04-25T13:55:28.261214Z",
     "start_time": "2024-04-25T13:55:27.928190Z"
    },
    "collapsed": false,
    "editable": true,
    "jupyter": {
     "outputs_hidden": false
    },
    "slideshow": {
     "slide_type": ""
    },
    "tags": [
     "remove_output"
    ]
   },
   "outputs": [
    {
     "name": "stdout",
     "output_type": "stream",
     "text": [
      "[ tree height=50, number of tangles=30, limit=1698.0 ]: sweep finished                                                                                \n"
     ]
    }
   ],
   "source": [
    "agreement = 1700\n",
    "tangles.change_agreement(agreement, force_tree_update=True)"
   ]
  },
  {
   "cell_type": "code",
   "execution_count": 16,
   "metadata": {
    "ExecuteTime": {
     "end_time": "2024-04-25T13:55:28.563683Z",
     "start_time": "2024-04-25T13:55:28.262028Z"
    }
   },
   "outputs": [
    {
     "data": {
      "image/png": "[encoded data removed]",
      "text/plain": [
       "<Figure size 1000x500 with 1 Axes>"
      ]
     },
     "metadata": {},
     "output_type": "display_data"
    }
   ],
   "source": [
    "plot_big5_tangle_matrix(tangles.tangle_matrix(), agreement, survey.variable_info()['name'])"
   ]
  },
  {
   "cell_type": "markdown",
   "metadata": {},
   "source": [
    "Two new tangles, both of them just varying statement O9 which is \"I spend time reflecting on things.\". This tells us that the ratings of the O9 statement do not align as consistently with the overall O factor ratings as they do for the other O statements. The reasons behind this can only be guessed but it may be because the statement is not very specific and rating the intensity or amount of time spend on reflecting things might be hard to judge objectively."
   ]
  },
  {
   "cell_type": "markdown",
   "metadata": {},
   "source": [
    "Note that we essentially found two tangles, plus two tangles that contain precisely the inverted features. \n",
    "\n",
    "Take, for example, the tangles in row 1 and 2: one might think that the combinations of factors in tangle 1 are as typically found in the survey data as the combination of factors in tangle 2. This might be, but is not necessarily the case: recall, that we defined the features by the median of a statement, which leads to very _balanced_ features (i.e. a feature and its inverse are of almost the same size). Consequently, whenever a tangle has high agreement, it is not surprising that its inverse tangle also has high agreement. How we define the features has a strong influence on the results of the tangle search."
   ]
  },
  {
   "cell_type": "markdown",
   "metadata": {},
   "source": [
    "Let us lower the agreement once more. "
   ]
  },
  {
   "cell_type": "code",
   "execution_count": 17,
   "metadata": {
    "ExecuteTime": {
     "end_time": "2024-04-25T13:55:29.563955Z",
     "start_time": "2024-04-25T13:55:28.562737Z"
    },
    "collapsed": false,
    "editable": true,
    "jupyter": {
     "outputs_hidden": false
    },
    "slideshow": {
     "slide_type": ""
    },
    "tags": [
     "remove_output"
    ]
   },
   "outputs": [
    {
     "name": "stdout",
     "output_type": "stream",
     "text": [
      "[ tree height=50, number of tangles=50, limit=1647.0 ]: sweep finished                                                                                \n"
     ]
    }
   ],
   "source": [
    "agreement = 1648\n",
    "tangles.change_agreement(agreement, force_tree_update=True)"
   ]
  },
  {
   "cell_type": "code",
   "execution_count": 18,
   "metadata": {
    "ExecuteTime": {
     "end_time": "2024-04-25T13:55:29.903910Z",
     "start_time": "2024-04-25T13:55:29.563205Z"
    }
   },
   "outputs": [
    {
     "data": {
      "image/png": "[encoded data removed]",
      "text/plain": [
       "<Figure size 1000x500 with 1 Axes>"
      ]
     },
     "metadata": {},
     "output_type": "display_data"
    }
   ],
   "source": [
    "plot_big5_tangle_matrix(tangles.tangle_matrix(), agreement, survey.variable_info()['name'])"
   ]
  },
  {
   "cell_type": "markdown",
   "metadata": {},
   "source": [
    "New tangles! Some tangles differ only in how O9 is specified, which makes the tangle matrix a bit harder to read. Yet, we can clearly make out two new typical mindsets:\n",
    "- extroverted, agreeable and conscientious; but not neurotic and not open for experience\n",
    "- extroverted, agreeable and open for experience; but not neurotic and not conscientious"
   ]
  },
  {
   "cell_type": "markdown",
   "metadata": {},
   "source": [
    "Can we find more tangles that reveal typical combinations of factors if we lower the agreement value just a little more?"
   ]
  },
  {
   "cell_type": "code",
   "execution_count": 19,
   "metadata": {
    "ExecuteTime": {
     "end_time": "2024-04-25T13:55:30.480811Z",
     "start_time": "2024-04-25T13:55:29.900802Z"
    },
    "collapsed": false,
    "editable": true,
    "jupyter": {
     "outputs_hidden": false
    },
    "slideshow": {
     "slide_type": ""
    },
    "tags": [
     "remove_output"
    ]
   },
   "outputs": [
    {
     "name": "stdout",
     "output_type": "stream",
     "text": [
      "[ tree height=50, number of tangles=55, limit=1644.0 ]: sweep finished                                                                                \n"
     ]
    }
   ],
   "source": [
    "agreement = 1645\n",
    "tangles.change_agreement(agreement, force_tree_update=True)"
   ]
  },
  {
   "cell_type": "code",
   "execution_count": 20,
   "metadata": {
    "ExecuteTime": {
     "end_time": "2024-04-25T13:55:30.829207Z",
     "start_time": "2024-04-25T13:55:30.480935Z"
    }
   },
   "outputs": [
    {
     "data": {
      "image/png": "[encoded data removed]",
      "text/plain": [
       "<Figure size 1000x500 with 1 Axes>"
      ]
     },
     "metadata": {},
     "output_type": "display_data"
    }
   ],
   "source": [
    "plot_big5_tangle_matrix(tangles.tangle_matrix(), agreement, survey.variable_info()['name'])"
   ]
  },
  {
   "cell_type": "markdown",
   "metadata": {},
   "source": [
    "Yes. We pick out the tangles with newly appearing combinations:\n",
    "- row at index 2: neurotic and conscientious; but not extroverted, not agreeable and not open for experience\n",
    "- row at index 11: neurotic and open for experience; but not extroverted, not agreeable and not conscientious\n",
    "\n",
    "Note that, for this agreement, not all factors are distinguishable. E.g. all tangles that indicate disagreement to the E statements also indicate agreement to the N statements and vice versa."
   ]
  },
  {
   "cell_type": "markdown",
   "metadata": {},
   "source": [
    "We stop decreasing the agreement at this point, but feel free to go on and play around with different agreement values.  \n",
    "Note that at some point (try agreement 1500) the number of tangles increases drastically, making interpretations hard. Picking appropriate values for the agreement is crucial."
   ]
  },
  {
   "cell_type": "markdown",
   "metadata": {},
   "source": [
    "### Conclusion"
   ]
  },
  {
   "cell_type": "markdown",
   "metadata": {},
   "source": [
    "We found the six most typical mindsets present in the data set. Let us get an overview and visualize the results in a simple picture, where each row shows a typical mindset (from the most typical one in the first row to the least typical one in the last row)."
   ]
  },
  {
   "cell_type": "code",
   "execution_count": 21,
   "metadata": {
    "ExecuteTime": {
     "end_time": "2024-04-25T13:55:30.948968Z",
     "start_time": "2024-04-25T13:55:30.833235Z"
    }
   },
   "outputs": [
    {
     "data": {
      "image/png": "[encoded data removed]",
      "text/plain": [
       "<Figure size 450x300 with 1 Axes>"
      ]
     },
     "metadata": {},
     "output_type": "display_data"
    }
   ],
   "source": [
    "from src.utilities import plot_mindsets\n",
    "\n",
    "typical_mindsets = np.asarray([[1,-1,1,1,1],\n",
    "                               [-1,1,-1,-1,-1],\n",
    "                               [1,-1,1,1,-1],\n",
    "                               [1,-1,1,-1,1],\n",
    "                               [-1,1,-1,1,-1],\n",
    "                               [-1,1,-1,-1,1]])\n",
    "plot_mindsets(typical_mindsets, 'Most Typical Mindsets')"
   ]
  },
  {
   "cell_type": "markdown",
   "metadata": {},
   "source": [
    "If we have a closer look, we notice an interesting detail: the six mindsets we found can actually be described by only three mindsets and their inverses. Let's visualize them again but ordering them pairwise with their inverses."
   ]
  },
  {
   "cell_type": "code",
   "execution_count": 22,
   "metadata": {
    "ExecuteTime": {
     "end_time": "2024-04-25T13:55:31.075145Z",
     "start_time": "2024-04-25T13:55:30.971646Z"
    }
   },
   "outputs": [
    {
     "data": {
      "image/png": "[encoded data removed]",
      "text/plain": [
       "<Figure size 450x300 with 1 Axes>"
      ]
     },
     "metadata": {},
     "output_type": "display_data"
    }
   ],
   "source": [
    "plot_mindsets(typical_mindsets[[0,1,2,5,3,4]], 'Most Typical Mindsets (Pairwise Order)')"
   ]
  },
  {
   "cell_type": "markdown",
   "metadata": {},
   "source": [
    "## 5. A Tree Structure on Mindsets"
   ]
  },
  {
   "cell_type": "markdown",
   "metadata": {},
   "source": [
    "In this section we will calculate a _tree of tangles (TOT)_, which will structure the tangles as nodes in a tree. Remember that tangles represent typical mindsets, so plotting the TOT lets us obtain a structure of typical mindsets in the data.\n",
    "\n",
    "To obtain our goal we need to\n",
    "- define an order function,\n",
    "- search tangles,\n",
    "- calculate a TOT for these tangles,\n",
    "- and give the TOT a meaningful visualization."
   ]
  },
  {
   "cell_type": "markdown",
   "metadata": {},
   "source": [
    "### 5.1 Define an order function"
   ]
  },
  {
   "cell_type": "markdown",
   "metadata": {
    "editable": true,
    "slideshow": {
     "slide_type": ""
    },
    "tags": []
   },
   "source": [
    "To calculate a TOT we need a submodular __order function__ on the features. The definition of the order function has a great influence on what tangles will be found and how the tree of tangles will look like. Choosing and tweaking this definition is an important tool in the tangle workflow and can - and should - be utilised to obtain results that allow for the analysis of aspects of interest.\n",
    "\n",
    "In this section we will implement the order function _(O1)_ from the [Tangles book](https://tangles-book.com). For a partition $\\{A,B\\}$ it is given by\n",
    "\n",
    "\\begin{align}\n",
    "\\sum_{a \\in A} \\sum_{b \\in B} \\sigma(a,b),\n",
    "\\end{align}\n",
    "\n",
    "where $\\sigma(a,b)$ is a function measuring the similarity of $a$ and $b$ and should be chosen such that it fits the problem at hand. In our specific application, we set $\\sigma(a,b) = 1$, if $b$ is one of the $k$ most similar participants to $a$, and otherwise  $\\sigma(a,b) = 0$. We will motivate this specific definition of $\\sigma$ later."
   ]
  },
  {
   "cell_type": "markdown",
   "metadata": {
    "editable": true,
    "slideshow": {
     "slide_type": ""
    },
    "tags": []
   },
   "source": [
    "__Overview__"
   ]
  },
  {
   "cell_type": "markdown",
   "metadata": {},
   "source": [
    "Step by step we will\n",
    "1. for any two participants $a$ and $b$, count on how many questions they agree;\n",
    "2. for each participant $a$, determine the $k$ participants that agree with $a$ on the most questions, i.e. that are most similar to $a$;\n",
    "3. define the order function _(O1)_ as described above."
   ]
  },
  {
   "cell_type": "markdown",
   "metadata": {},
   "source": [
    "__1. Count agreements on questions__"
   ]
  },
  {
   "cell_type": "markdown",
   "metadata": {},
   "source": [
    "We count on how many questions two participants agree. Technically this is implemented using the Hamming distance.\n",
    "\n",
    "The [Hamming distance](https://en.wikipedia.org/wiki/Hamming_distance) is a tool that is usually used to describe the difference between two strings, counting the number of positions at which the symbols of the strings differ. We transfer this concept to the questionnaire data: given two participants we count the questions on which the participants _disagree_ (to calculate the similarity of participants this works just as well as counting their agreements).\n",
    "\n",
    "To do so, we need a discretization of the ratings a participant gave, turning the ratings into binary answers: yes or no.\n",
    "\n",
    "It is fortunate that we already have such a discretization! Turning the ratings into binary values is exactly what we did when we defined the features in the first section. Thus, we can calculate the distance matrix using the matrix of features."
   ]
  },
  {
   "cell_type": "code",
   "execution_count": 23,
   "metadata": {
    "ExecuteTime": {
     "end_time": "2024-04-25T13:55:36.613090Z",
     "start_time": "2024-04-25T13:55:31.074596Z"
    }
   },
   "outputs": [],
   "source": [
    "from scipy.spatial.distance import pdist\n",
    "\n",
    "feature_factory = create_median_feature_factory(survey)\n",
    "features = feature_factory.create_features()[0]\n",
    "\n",
    "hamming_distance = pdist(features, metric='hamming')"
   ]
  },
  {
   "cell_type": "markdown",
   "metadata": {},
   "source": [
    "__2. Determine the most similar participants__"
   ]
  },
  {
   "cell_type": "markdown",
   "metadata": {},
   "source": [
    "For each participant, we determine the $k$ participants that disagree on the fewest questions.\n",
    "\n",
    "This can be done by calculating a $k$-nearest-neighbour graph. The graph is represented by an [adjacency matrix](https://en.wikipedia.org/wiki/Adjacency_matrix), which can then be used as the similarity matrix containing at index $(i,j)$ the similarity $\\sigma(i,j)$ of the $i$-th and the $j$-th participant. \n",
    "\n",
    "Experience has shown that considering only the $k$ most similar participants often is a good choice to define $\\sigma$ with. One advantage of it is that we can easily analyze basic properties of the $k$-nearest-neighbour graph like its number of components or its average degree. Furthermore, we can adjust the graph to our needs by modifying its adjacency matrix."
   ]
  },
  {
   "cell_type": "code",
   "execution_count": 24,
   "metadata": {
    "ExecuteTime": {
     "end_time": "2024-04-25T13:55:41.917349Z",
     "start_time": "2024-04-25T13:55:36.623580Z"
    }
   },
   "outputs": [],
   "source": [
    "from tangles.util.graph.similarity import k_nearest_neighbors\n",
    "\n",
    "k = 2\n",
    "k_nn_matrix = k_nearest_neighbors(hamming_distance, k=k)\n",
    "similarity_matrix = k_nn_matrix + k_nn_matrix.T"
   ]
  },
  {
   "cell_type": "markdown",
   "metadata": {},
   "source": [
    "We go for a __small value__ $k$, using $k=2$. Why?\n",
    "- In many cases a small value (e.g. 4 or smaller) is enough to capture the most important structure in the data. Imagine a subset of participants that are very similar to each other. We want these participants to be part of a dense area in the $k$-nearest-neighbour graph and a small value for $k$ is sufficient to achieve this.\n",
    "- Moreover, we benefit from the sparsity of the adjacency matrix as it leads to faster calculations in all following steps that involve the order function.\n",
    "\n",
    "Also note the last line: it's a simple trick to obtain a symmetric matrix. This step is not obligatory, but the symmetry allows us to interpret the matrix as a similarity matrix, which simplifies the interpretation and analysis of the matrix."
   ]
  },
  {
   "cell_type": "markdown",
   "metadata": {},
   "source": [
    "Let's check some basic properties of the graph."
   ]
  },
  {
   "cell_type": "code",
   "execution_count": 25,
   "metadata": {
    "ExecuteTime": {
     "end_time": "2024-04-25T13:55:41.926605Z",
     "start_time": "2024-04-25T13:55:41.918974Z"
    }
   },
   "outputs": [
    {
     "name": "stdout",
     "output_type": "stream",
     "text": [
      "#non-zero entries: 66100\n",
      "#connected components: 1\n"
     ]
    }
   ],
   "source": [
    "from scipy.sparse.csgraph import connected_components\n",
    "print(f'#non-zero entries: {similarity_matrix.size}')\n",
    "print(f\"#connected components: {connected_components(similarity_matrix, directed=False, return_labels=False)}\")"
   ]
  },
  {
   "cell_type": "markdown",
   "metadata": {},
   "source": [
    "The graph is dense enough to be made up of only one component but still quite sparse (66,098 non-zero entries compared to a total 374,809,600 entries in the adjacency matrix)."
   ]
  },
  {
   "cell_type": "code",
   "execution_count": 26,
   "metadata": {
    "ExecuteTime": {
     "end_time": "2024-04-25T13:55:42.248631Z",
     "start_time": "2024-04-25T13:55:41.924898Z"
    }
   },
   "outputs": [
    {
     "data": {
      "image/png": "[encoded data removed]",
      "text/plain": [
       "<Figure size 1000x300 with 1 Axes>"
      ]
     },
     "metadata": {},
     "output_type": "display_data"
    }
   ],
   "source": [
    "degrees = (similarity_matrix>0).sum(axis=1)\n",
    "plt.figure(figsize=(10,3))\n",
    "plt.hist(degrees, bins=range(degrees.min(), degrees.max()))\n",
    "plt.xticks(ticks=range(degrees.min(), degrees.max(), 2))\n",
    "plt.title(f\"Histogram of Vertex Degrees in the {k}-nn Graph (Max. Degree: {degrees.max()})\");"
   ]
  },
  {
   "cell_type": "markdown",
   "metadata": {},
   "source": [
    "Most vertices are of degree 2. But while the the number of vertices of large degree quickly declines, there are vertices of degree up to 59."
   ]
  },
  {
   "cell_type": "markdown",
   "metadata": {},
   "source": [
    "__3. Define the order function__"
   ]
  },
  {
   "cell_type": "markdown",
   "metadata": {},
   "source": [
    "Finally, we define the order function _(O1)_.\n",
    "\n",
    "To do so, we use the `matrix_order()` function provided by the tangle library."
   ]
  },
  {
   "cell_type": "code",
   "execution_count": 27,
   "metadata": {
    "ExecuteTime": {
     "end_time": "2024-04-25T13:55:42.253833Z",
     "start_time": "2024-04-25T13:55:42.247774Z"
    }
   },
   "outputs": [],
   "source": [
    "from tangles.util.matrix_order import matrix_order\n",
    "\n",
    "def order_function(features):\n",
    "    return matrix_order(-similarity_matrix, features)"
   ]
  },
  {
   "cell_type": "markdown",
   "metadata": {},
   "source": [
    "Note that `order_function()` does not literately calculate the order function _(O1)_, but an order function that induces the same order on our features as _(O1)_ does. Thus, we can go with `order_function()`, which has a more efficient implementation, and achieve the same results in the following calculations.\n",
    "\n",
    "Let's have a look at the orders it assigns to the 50 original features."
   ]
  },
  {
   "cell_type": "code",
   "execution_count": 28,
   "metadata": {
    "ExecuteTime": {
     "end_time": "2024-04-25T13:55:42.587332Z",
     "start_time": "2024-04-25T13:55:42.257084Z"
    }
   },
   "outputs": [
    {
     "data": {
      "image/png": "[encoded data removed]",
      "text/plain": [
       "<Figure size 1000x300 with 1 Axes>"
      ]
     },
     "metadata": {},
     "output_type": "display_data"
    }
   ],
   "source": [
    "order = order_function(features)\n",
    "plt.figure(figsize=(10,3))\n",
    "plt.bar(range(len(order)), order)\n",
    "plt.title(f'Feature Orders')\n",
    "plt.xticks(range(len(var_names)), var_names, rotation=90);"
   ]
  },
  {
   "cell_type": "code",
   "execution_count": 29,
   "metadata": {
    "ExecuteTime": {
     "end_time": "2024-04-25T13:55:42.593032Z",
     "start_time": "2024-04-25T13:55:42.586541Z"
    }
   },
   "outputs": [
    {
     "name": "stdout",
     "output_type": "stream",
     "text": [
      "Features, sorted lowest to highest order:\n",
      "['E3' 'E5' 'E7' 'N8' 'A7' 'N7' 'A4' 'E4' 'A5' 'E1' 'E10' 'E2' 'A9' 'N1'\n",
      " 'O10' 'N9' 'N6' 'O1' 'O2' 'C4' 'N10' 'E6' 'E9' 'N2' 'O8' 'O5' 'E8' 'A2'\n",
      " 'C9' 'C5' 'O3' 'A1' 'C6' 'A10' 'A6' 'C1' 'C2' 'O4' 'O6' 'C7' 'N3' 'O7'\n",
      " 'A8' 'C10' 'C8' 'N4' 'A3' 'N5' 'C3' 'O9']\n"
     ]
    }
   ],
   "source": [
    "print('Features, sorted lowest to highest order:')\n",
    "print(var_names[np.argsort(order)])"
   ]
  },
  {
   "cell_type": "markdown",
   "metadata": {},
   "source": [
    "While all factors have features of relatively low and of relatively high order, factor E has most features of low order and factors O and C have most features of high order.\n",
    "\n",
    "What does this tell us? \n",
    "- For our order function, the order of a feature is high if it separates the participants within dense areas of the graph, whereas it is low if dense areas get separated to a lesser extend.\n",
    "- In other words, a low order feature of factor E partitions the participants such that on average two similar (i.e. small Hamming distance) participants are more likely to be in the same part of the bipartition. Conversely, a factor O or factor C feature of high order has a stronger tendency to separate two similar participants.\n",
    "\n",
    "The order of the features will have a recognisable impact on how the tangles in the TOT look like. We will address this effect later."
   ]
  },
  {
   "cell_type": "markdown",
   "metadata": {},
   "source": [
    "### 5.2 Search tangles"
   ]
  },
  {
   "cell_type": "markdown",
   "metadata": {},
   "source": [
    "Using the `order_function()` that we just defined to specify the order of the features, let's search for tangles.\n",
    "Note that we set the uncross parameter to True: this will add features that are logical combinations of the original features, called _corners_. These are necessary to be able to compute a TOT.\n",
    "We call the process of adding corners _uncrossing_."
   ]
  },
  {
   "cell_type": "code",
   "execution_count": 30,
   "metadata": {
    "ExecuteTime": {
     "end_time": "2024-04-25T13:55:48.543092Z",
     "start_time": "2024-04-25T13:55:42.590630Z"
    },
    "editable": true,
    "slideshow": {
     "slide_type": ""
    },
    "tags": [
     "remove_output"
    ]
   },
   "outputs": [
    {
     "name": "stdout",
     "output_type": "stream",
     "text": [
      "creating features... finished                                                                                                                         \n",
      "[ tree height=278, number of tangles=6, limit=498.0 ]: appending finished                                                                             \n"
     ]
    }
   ],
   "source": [
    "agreement = 500\n",
    "tangles = SurveyTangles.search(survey, agreement, feature_factory=feature_factory, order=order_function, uncross=True)"
   ]
  },
  {
   "cell_type": "code",
   "execution_count": 31,
   "metadata": {
    "ExecuteTime": {
     "end_time": "2024-04-25T13:55:48.550065Z",
     "start_time": "2024-04-25T13:55:48.542099Z"
    }
   },
   "outputs": [
    {
     "name": "stdout",
     "output_type": "stream",
     "text": [
      "Total number of features in the search result: 758\n"
     ]
    }
   ],
   "source": [
    "print(f'Total number of features in the search result: {len(tangles.feature_system)}')"
   ]
  },
  {
   "cell_type": "code",
   "execution_count": 32,
   "metadata": {
    "ExecuteTime": {
     "end_time": "2024-04-25T13:55:48.656103Z",
     "start_time": "2024-04-25T13:55:48.547732Z"
    }
   },
   "outputs": [
    {
     "data": {
      "image/png": "[encoded data removed]",
      "text/plain": [
       "<Figure size 640x480 with 1 Axes>"
      ]
     },
     "metadata": {},
     "output_type": "display_data"
    }
   ],
   "source": [
    "plot_tangle_matrix(tangles.tangle_matrix(False, False, False), 'Tangle Matrix (only Original Features)');"
   ]
  },
  {
   "cell_type": "markdown",
   "metadata": {},
   "source": [
    "Let us address a property of the tangle matrix that might seem odd:  \n",
    "The tangles in the upper part of the tangle matrix do not specify any of the original separations. However, this is not a problem, since uncrossing added features that are corners of the original features (and of previously added corners), i.e. they are logical combinations of the original features. The tangles in the upper part of the tangle matrix specify many of those corners, so these tangle nonetheless contain information about the statements corresponding to the original features."
   ]
  },
  {
   "cell_type": "markdown",
   "metadata": {},
   "source": [
    "### 5.3 Plot a tree of tangles"
   ]
  },
  {
   "cell_type": "markdown",
   "metadata": {},
   "source": [
    "Now we calculate the tree of tangles."
   ]
  },
  {
   "cell_type": "code",
   "execution_count": 33,
   "metadata": {
    "ExecuteTime": {
     "end_time": "2024-04-25T13:55:48.724140Z",
     "start_time": "2024-04-25T13:55:48.667575Z"
    }
   },
   "outputs": [
    {
     "data": {
      "image/png": "[encoded data removed]",
      "text/plain": [
       "<Figure size 300x300 with 1 Axes>"
      ]
     },
     "metadata": {},
     "output_type": "display_data"
    }
   ],
   "source": [
    "tot = tangles.sweep.create_tot(agreement)\n",
    "\n",
    "from tangles.util.tree import plot_tree\n",
    "fig, ax = plt.subplots(figsize=(3,3))\n",
    "plot_tree(tot.nodes[0], ax=ax);"
   ]
  },
  {
   "cell_type": "markdown",
   "metadata": {},
   "source": [
    "This was simple - but unfortunately there is not too much to make of it: it shows the overall structure, but we need more information about the tangles. Each node of the tree is a tangle, so we need to define a plot that visualises each of these tangles. In the above plot every node can then be replaced with this visualisation."
   ]
  },
  {
   "cell_type": "markdown",
   "metadata": {},
   "source": [
    "How to best visualize a tangle differs from application to application. In our case, we want the plot to show how much a tangle represents each of the five factors. More precisely, to each tangle we want to assign five values that indicate how the tangle relates to the five factors. We call this five values _factor weights_.\n",
    "\n",
    "Given a tangle, to calculate its factor weights we will\n",
    "1. calculate factor weights for each participant;\n",
    "2. for all participants, calculate the tangle score with respect to the given tangle;\n",
    "3. calculate the factor weights of the tangle, which we define as a score-weighted sum of the factor weights of all participants. "
   ]
  },
  {
   "cell_type": "markdown",
   "metadata": {},
   "source": [
    "__1. Factor weights for each participant__"
   ]
  },
  {
   "cell_type": "markdown",
   "metadata": {},
   "source": [
    "We go with a simple approach: given a participants ratings to the 10 statements of a factor, the factor weight for this factor is the mean value of the ratings."
   ]
  },
  {
   "cell_type": "code",
   "execution_count": 34,
   "metadata": {
    "ExecuteTime": {
     "end_time": "2024-04-25T13:55:48.728883Z",
     "start_time": "2024-04-25T13:55:48.684463Z"
    }
   },
   "outputs": [],
   "source": [
    "def calc_factor_weights_per_participant(features):\n",
    "    return features @ np.kron(np.eye(5,dtype=int), np.ones((1,10))).T\n",
    "\n",
    "factor_weights_per_participant = calc_factor_weights_per_participant(features)"
   ]
  },
  {
   "cell_type": "markdown",
   "metadata": {},
   "source": [
    "__2. Tangle scores__"
   ]
  },
  {
   "cell_type": "markdown",
   "metadata": {},
   "source": [
    "Given a tangle, the score is a measure of how much a participant is 'contained' within the tangle. There are different scoring algorithms implemented in the tangle library. We use the `soft_clustering_tuebingen` algorithm as it turns out to deliver good results for this use case."
   ]
  },
  {
   "cell_type": "code",
   "execution_count": 35,
   "metadata": {
    "ExecuteTime": {
     "end_time": "2024-04-25T13:55:48.872244Z",
     "start_time": "2024-04-25T13:55:48.696559Z"
    }
   },
   "outputs": [],
   "source": [
    "from tangles.analysis import soft_clustering_tuebingen\n",
    "\n",
    "tangle_matrix = tangles.sweep.tangle_matrix(only_initial_seps=False)\n",
    "scores = soft_clustering_tuebingen(tangle_matrix, tangles.sweep.tree._sep_ids[:tangle_matrix.shape[1]], tangles.feature_system)"
   ]
  },
  {
   "cell_type": "markdown",
   "metadata": {},
   "source": [
    "__3. Factor weights of a tangle__"
   ]
  },
  {
   "cell_type": "markdown",
   "metadata": {},
   "source": [
    "Now, given a tangle we can calculate its factor weights as a score-weighted sum of all participants factor weights."
   ]
  },
  {
   "cell_type": "code",
   "execution_count": 36,
   "metadata": {
    "ExecuteTime": {
     "end_time": "2024-04-25T13:55:48.876095Z",
     "start_time": "2024-04-25T13:55:48.711053Z"
    }
   },
   "outputs": [],
   "source": [
    "from src.radar_plot_util import soft_max\n",
    "\n",
    "def calc_factor_weights_by_score_weighted_participants(scores, factor_weights_per_participant, tangle_idx, soft_max_scaling):\n",
    "    soft_maxed_scores = soft_max(scores[:,tangle_idx], scaling=soft_max_scaling)\n",
    "    return np.sum(factor_weights_per_participant * soft_maxed_scores[:,np.newaxis], axis=0)"
   ]
  },
  {
   "cell_type": "markdown",
   "metadata": {},
   "source": [
    "__Plotting factor weights__"
   ]
  },
  {
   "cell_type": "markdown",
   "metadata": {},
   "source": [
    "What's left to implement is how to plot the factor weights of a tangle."
   ]
  },
  {
   "cell_type": "code",
   "execution_count": 37,
   "metadata": {
    "ExecuteTime": {
     "end_time": "2024-04-25T13:55:48.908778Z",
     "start_time": "2024-04-25T13:55:48.721088Z"
    }
   },
   "outputs": [],
   "source": [
    "from src.radar_plot_util import create_factor_weights_radar_plot\n",
    "\n",
    "def plot_factor_weights_by_score_weighted_participants(node, ax, sweep, scores, factor_weights_per_participant, soft_max_scaling=10):\n",
    "    factor_weights = calc_factor_weights_by_score_weighted_participants(scores, factor_weights_per_participant, node.tangle_idx, soft_max_scaling)\n",
    "    # use the location size as plot title\n",
    "    if len(node.star[0]) != 0:\n",
    "        location_size = np.sum(sweep.sep_sys.compute_infimum(*node.star) == 1)\n",
    "    else:\n",
    "        location_size = ''\n",
    "    create_factor_weights_radar_plot(ax, factor_weights, title=f'{location_size}')"
   ]
  },
  {
   "cell_type": "markdown",
   "metadata": {},
   "source": [
    "Note that the bigger part of the code that is responsible for the plotting of the factor weights is hidden in the imports. This is mostly matplotlib setup and not interesting when getting to know tangles so we do not recommend to dig into this code."
   ]
  },
  {
   "cell_type": "code",
   "execution_count": 38,
   "metadata": {
    "ExecuteTime": {
     "end_time": "2024-04-25T13:55:49.349561Z",
     "start_time": "2024-04-25T13:55:48.725789Z"
    }
   },
   "outputs": [
    {
     "data": {
      "image/png": "[encoded data removed]",
      "text/plain": [
       "<Figure size 1200x900 with 10 Axes>"
      ]
     },
     "metadata": {},
     "output_type": "display_data"
    }
   ],
   "source": [
    "from src.radar_plot import radar_factory\n",
    "from src.radar_plot_util import node_sizes_by_location_sizes, efficient_distinguisher_tree_level_annotation\n",
    "\n",
    "# matplotlib setup: we need to register a new axes projection type\n",
    "radar_factory(5, frame='polygon')\n",
    "\n",
    "node_sizes = node_sizes_by_location_sizes(tangles.sweep, tot, (0.12, 0.12), lambda x : np.power(x,1/5))\n",
    "fig, ax = plt.subplots(figsize=(12,9))\n",
    "plot_tree(tot.nodes[0],\n",
    "          ax=ax,\n",
    "          plot_node=lambda node, ax: plot_factor_weights_by_score_weighted_participants(node, ax, tangles.sweep, scores, factor_weights_per_participant), \n",
    "          node_size=node_sizes,\n",
    "          ax_projection='radar',\n",
    "          plot_edge_annotation=efficient_distinguisher_tree_level_annotation(tangles.sweep, tot))\n",
    "ax.set_title(f'Tree of Tangles (k={2}, agreement={agreement})');"
   ]
  },
  {
   "cell_type": "markdown",
   "metadata": {},
   "source": [
    "A green triangle indicates a positive and a red triangle indicates a negative factor weight. The size of the triangle indicates the magnitude of the factor weight. Furthermore, the title of each node tells us the size of the _location_ of that tangle (i.e. the size of the intersection of all efficient distinguishers associated with the adjacent edges).\n",
    "\n",
    "The blue annotation at each edge shows the tree level at which the efficient distinguisher corresponding to the edge appears in the _tangle search tree_. The _tangle search tree_ contains the features of lowest order at its lowest levels, so a small tree level comes with a small feature order, and vice versa. Usually, we think of features at a smaller tree level (that is, of lower order) as features that split the set of participants by a more general criterion. Conversely, features at a higher tree level correspond to more specific criteria.\n",
    "\n",
    "The TOT gives an overview over all tangles found. There is a subtree that contains different facets of mindsets of (more or less) extroverted participants, while another subtree contains that of introverted participants."
   ]
  },
  {
   "cell_type": "markdown",
   "metadata": {},
   "source": [
    "## 6. Typical Ranges of Ratings"
   ]
  },
  {
   "cell_type": "markdown",
   "metadata": {},
   "source": [
    "In the previous sections we have defined one potential feature for each statement. For each participant, this gave us a true/false classification for each of the 50 statements. Now, we will follow a more fine-grained approach. For each statement $q$ we create not one but four potential features:\n",
    "- $s_1=\\{q \\geq 2\\}$\n",
    "- $s_2=\\{q \\geq 3\\}$\n",
    "- $s_3=\\{q \\geq 4\\}$\n",
    "- $s_4=\\{q \\geq 5\\}$\n",
    "\n",
    "Given a tangle that specifies a subset of these potential features we can derive an __interval of typical ratings__ of $q$. Let's have a look at an example. Assume a tangle contains $s_2$ and $s_{4}^C$. Participants that are in both $s_2$ and $s_{4}^C$ gave $q$ a rating of at least 3, but not 5 or higher, resulting in the rating interval $q \\in [3,4]$. "
   ]
  },
  {
   "cell_type": "markdown",
   "metadata": {},
   "source": [
    "### 6.1 Features at thresholds"
   ]
  },
  {
   "cell_type": "markdown",
   "metadata": {},
   "source": [
    "Analysing intervals of typical answers is a great way to do tangle analysis; not only for this survey, but for surveys containing ordinal variables in general.\n",
    "For that reason, users of the tangle library are provided with this functionality, and all what's left to do is to properly set up a `Survey` object!\n",
    "\n",
    "Given this `Survey` object, the tangle library is able to\n",
    "- automatically create the necessary features (features like $s_i$ above), and\n",
    "- automatically calculate typical intervals of values, given the tangle search results."
   ]
  },
  {
   "cell_type": "markdown",
   "metadata": {},
   "source": [
    "We start fresh and load the data from file again. In this example, we limit ourselves to the __subset of N-factor (neuroticism) statements__. "
   ]
  },
  {
   "cell_type": "code",
   "execution_count": 39,
   "metadata": {
    "ExecuteTime": {
     "end_time": "2024-04-25T13:55:49.422708Z",
     "start_time": "2024-04-25T13:55:49.349178Z"
    }
   },
   "outputs": [],
   "source": [
    "X, var_names, var_labels, factors = load_big_five_data()\n",
    "X = remove_rows_with_zero_std(X)\n",
    "\n",
    "N_idxs = range(10,20)\n",
    "X_N = X[:,N_idxs]\n",
    "var_names_N = var_names[N_idxs]\n",
    "var_labels_N = var_labels[N_idxs]"
   ]
  },
  {
   "cell_type": "markdown",
   "metadata": {},
   "source": [
    "Let's set up a `Survey` object containing the data of N statements."
   ]
  },
  {
   "cell_type": "code",
   "execution_count": 40,
   "metadata": {
    "ExecuteTime": {
     "end_time": "2024-04-25T13:55:49.425488Z",
     "start_time": "2024-04-25T13:55:49.416361Z"
    }
   },
   "outputs": [],
   "source": [
    "survey_N = Survey(pd.DataFrame(X[:,N_idxs], columns = var_names_N))\n",
    "survey_N.set_variable_labels(var_labels_N)\n",
    "survey_N.set_variable_types('ordinal')"
   ]
  },
  {
   "cell_type": "markdown",
   "metadata": {},
   "source": [
    "We need to take care of the negatively keyed statements N2 and N4. Just like we did for the data in the previous section, we tag the name and the label of all negatively keyed variables with a \"¬\" and reverse the rating scale. This way, for negatively keyed statements, 1 to 5 becomes 5 to 1. The method `replace_variable_values()` is a convenient way to do this."
   ]
  },
  {
   "cell_type": "code",
   "execution_count": 41,
   "metadata": {
    "ExecuteTime": {
     "end_time": "2024-04-25T13:55:49.462710Z",
     "start_time": "2024-04-25T13:55:49.424345Z"
    }
   },
   "outputs": [],
   "source": [
    "from src.utilities import keying_N\n",
    "\n",
    "keyed_var_names_N = np.asarray([l if neg==1 else f'¬{l}' for l, neg in zip(var_names_N, keying_N)])\n",
    "keyed_var_labels_N = np.asarray([s if neg==1 else f'¬{s}' for s, neg in zip(var_labels_N, keying_N)])\n",
    "\n",
    "survey_N.set_variable_names(keyed_var_names_N)\n",
    "survey_N.set_variable_labels(keyed_var_labels_N)\n",
    "survey_N.replace_variable_values(keyed_var_names_N[keying_N==-1], {1: 5, 2: 4, 3: 3, 4: 2, 5: 1}, suppress_check_var_warning=True)"
   ]
  },
  {
   "cell_type": "markdown",
   "metadata": {},
   "source": [
    "Let's complete the survey setup and check the `variable_info()`."
   ]
  },
  {
   "cell_type": "code",
   "execution_count": 42,
   "metadata": {
    "ExecuteTime": {
     "end_time": "2024-04-25T13:55:49.534873Z",
     "start_time": "2024-04-25T13:55:49.434009Z"
    }
   },
   "outputs": [
    {
     "data": {
      "text/html": [
       "<div>\n",
       "<style scoped>\n",
       "    .dataframe tbody tr th:only-of-type {\n",
       "        vertical-align: middle;\n",
       "    }\n",
       "\n",
       "    .dataframe tbody tr th {\n",
       "        vertical-align: top;\n",
       "    }\n",
       "\n",
       "    .dataframe thead th {\n",
       "        text-align: right;\n",
       "    }\n",
       "</style>\n",
       "<table border=\"1\" class=\"dataframe\">\n",
       "  <thead>\n",
       "    <tr style=\"text-align: right;\">\n",
       "      <th></th>\n",
       "      <th>id</th>\n",
       "      <th>name</th>\n",
       "      <th>type</th>\n",
       "      <th>label</th>\n",
       "      <th>valid_values</th>\n",
       "      <th>invalid_values</th>\n",
       "      <th>is_usable</th>\n",
       "      <th>num_valid_answers</th>\n",
       "      <th>num_unique_answers</th>\n",
       "    </tr>\n",
       "  </thead>\n",
       "  <tbody>\n",
       "    <tr>\n",
       "      <th>N1</th>\n",
       "      <td>0</td>\n",
       "      <td>N1</td>\n",
       "      <td>ordinal</td>\n",
       "      <td>I get stressed out easily.</td>\n",
       "      <td>{1: '1', 2: '2', 3: '3', 4: '4', 5: '5'}</td>\n",
       "      <td>{}</td>\n",
       "      <td>True</td>\n",
       "      <td>19360</td>\n",
       "      <td>5</td>\n",
       "    </tr>\n",
       "    <tr>\n",
       "      <th>¬N2</th>\n",
       "      <td>1</td>\n",
       "      <td>¬N2</td>\n",
       "      <td>ordinal</td>\n",
       "      <td>¬I am relaxed most of the time.</td>\n",
       "      <td>{1: '1', 2: '2', 3: '3', 4: '4', 5: '5'}</td>\n",
       "      <td>{}</td>\n",
       "      <td>True</td>\n",
       "      <td>19360</td>\n",
       "      <td>5</td>\n",
       "    </tr>\n",
       "    <tr>\n",
       "      <th>N3</th>\n",
       "      <td>2</td>\n",
       "      <td>N3</td>\n",
       "      <td>ordinal</td>\n",
       "      <td>I worry about things.</td>\n",
       "      <td>{1: '1', 2: '2', 3: '3', 4: '4', 5: '5'}</td>\n",
       "      <td>{}</td>\n",
       "      <td>True</td>\n",
       "      <td>19360</td>\n",
       "      <td>5</td>\n",
       "    </tr>\n",
       "    <tr>\n",
       "      <th>¬N4</th>\n",
       "      <td>3</td>\n",
       "      <td>¬N4</td>\n",
       "      <td>ordinal</td>\n",
       "      <td>¬I seldom feel blue.</td>\n",
       "      <td>{1: '1', 2: '2', 3: '3', 4: '4', 5: '5'}</td>\n",
       "      <td>{}</td>\n",
       "      <td>True</td>\n",
       "      <td>19360</td>\n",
       "      <td>5</td>\n",
       "    </tr>\n",
       "    <tr>\n",
       "      <th>N5</th>\n",
       "      <td>4</td>\n",
       "      <td>N5</td>\n",
       "      <td>ordinal</td>\n",
       "      <td>I am easily disturbed.</td>\n",
       "      <td>{1: '1', 2: '2', 3: '3', 4: '4', 5: '5'}</td>\n",
       "      <td>{}</td>\n",
       "      <td>True</td>\n",
       "      <td>19360</td>\n",
       "      <td>5</td>\n",
       "    </tr>\n",
       "    <tr>\n",
       "      <th>N6</th>\n",
       "      <td>5</td>\n",
       "      <td>N6</td>\n",
       "      <td>ordinal</td>\n",
       "      <td>I get upset easily.</td>\n",
       "      <td>{1: '1', 2: '2', 3: '3', 4: '4', 5: '5'}</td>\n",
       "      <td>{}</td>\n",
       "      <td>True</td>\n",
       "      <td>19360</td>\n",
       "      <td>5</td>\n",
       "    </tr>\n",
       "    <tr>\n",
       "      <th>N7</th>\n",
       "      <td>6</td>\n",
       "      <td>N7</td>\n",
       "      <td>ordinal</td>\n",
       "      <td>I change my mood a lot.</td>\n",
       "      <td>{1: '1', 2: '2', 3: '3', 4: '4', 5: '5'}</td>\n",
       "      <td>{}</td>\n",
       "      <td>True</td>\n",
       "      <td>19360</td>\n",
       "      <td>5</td>\n",
       "    </tr>\n",
       "    <tr>\n",
       "      <th>N8</th>\n",
       "      <td>7</td>\n",
       "      <td>N8</td>\n",
       "      <td>ordinal</td>\n",
       "      <td>I have frequent mood swings.</td>\n",
       "      <td>{1: '1', 2: '2', 3: '3', 4: '4', 5: '5'}</td>\n",
       "      <td>{}</td>\n",
       "      <td>True</td>\n",
       "      <td>19360</td>\n",
       "      <td>5</td>\n",
       "    </tr>\n",
       "    <tr>\n",
       "      <th>N9</th>\n",
       "      <td>8</td>\n",
       "      <td>N9</td>\n",
       "      <td>ordinal</td>\n",
       "      <td>I get irritated easily.</td>\n",
       "      <td>{1: '1', 2: '2', 3: '3', 4: '4', 5: '5'}</td>\n",
       "      <td>{}</td>\n",
       "      <td>True</td>\n",
       "      <td>19360</td>\n",
       "      <td>5</td>\n",
       "    </tr>\n",
       "    <tr>\n",
       "      <th>N10</th>\n",
       "      <td>9</td>\n",
       "      <td>N10</td>\n",
       "      <td>ordinal</td>\n",
       "      <td>I often feel blue.</td>\n",
       "      <td>{1: '1', 2: '2', 3: '3', 4: '4', 5: '5'}</td>\n",
       "      <td>{}</td>\n",
       "      <td>True</td>\n",
       "      <td>19360</td>\n",
       "      <td>5</td>\n",
       "    </tr>\n",
       "  </tbody>\n",
       "</table>\n",
       "</div>"
      ],
      "text/plain": [
       "     id name     type                            label  \\\n",
       "N1    0   N1  ordinal       I get stressed out easily.   \n",
       "¬N2   1  ¬N2  ordinal  ¬I am relaxed most of the time.   \n",
       "N3    2   N3  ordinal            I worry about things.   \n",
       "¬N4   3  ¬N4  ordinal             ¬I seldom feel blue.   \n",
       "N5    4   N5  ordinal           I am easily disturbed.   \n",
       "N6    5   N6  ordinal              I get upset easily.   \n",
       "N7    6   N7  ordinal          I change my mood a lot.   \n",
       "N8    7   N8  ordinal     I have frequent mood swings.   \n",
       "N9    8   N9  ordinal          I get irritated easily.   \n",
       "N10   9  N10  ordinal               I often feel blue.   \n",
       "\n",
       "                                 valid_values invalid_values  is_usable  \\\n",
       "N1   {1: '1', 2: '2', 3: '3', 4: '4', 5: '5'}             {}       True   \n",
       "¬N2  {1: '1', 2: '2', 3: '3', 4: '4', 5: '5'}             {}       True   \n",
       "N3   {1: '1', 2: '2', 3: '3', 4: '4', 5: '5'}             {}       True   \n",
       "¬N4  {1: '1', 2: '2', 3: '3', 4: '4', 5: '5'}             {}       True   \n",
       "N5   {1: '1', 2: '2', 3: '3', 4: '4', 5: '5'}             {}       True   \n",
       "N6   {1: '1', 2: '2', 3: '3', 4: '4', 5: '5'}             {}       True   \n",
       "N7   {1: '1', 2: '2', 3: '3', 4: '4', 5: '5'}             {}       True   \n",
       "N8   {1: '1', 2: '2', 3: '3', 4: '4', 5: '5'}             {}       True   \n",
       "N9   {1: '1', 2: '2', 3: '3', 4: '4', 5: '5'}             {}       True   \n",
       "N10  {1: '1', 2: '2', 3: '3', 4: '4', 5: '5'}             {}       True   \n",
       "\n",
       "     num_valid_answers  num_unique_answers  \n",
       "N1               19360                   5  \n",
       "¬N2              19360                   5  \n",
       "N3               19360                   5  \n",
       "¬N4              19360                   5  \n",
       "N5               19360                   5  \n",
       "N6               19360                   5  \n",
       "N7               19360                   5  \n",
       "N8               19360                   5  \n",
       "N9               19360                   5  \n",
       "N10              19360                   5  "
      ]
     },
     "execution_count": 42,
     "metadata": {},
     "output_type": "execute_result"
    }
   ],
   "source": [
    "survey_N.guess_variable_value_lists(mark_added_labels=False)\n",
    "survey_N.variable_info()"
   ]
  },
  {
   "cell_type": "markdown",
   "metadata": {},
   "source": [
    "Great, the survey is ready to go."
   ]
  },
  {
   "cell_type": "markdown",
   "metadata": {},
   "source": [
    "### 6.2 Feature Order: Prefer Balanced Features"
   ]
  },
  {
   "cell_type": "markdown",
   "metadata": {},
   "source": [
    "Next, we define an order function. Our goal is to favour balanced features (that is, features that split the set of participants into two roughly equally sized subsets) over unbalanced features. Thus, balanced features should get a low order assigned to and unbalanced features should get a high order assigned to.\n",
    "\n",
    "To achieve this, we use the __negated discrete entropy__:\n",
    "- Given a feature, the discrete entropy is large if the feature is very balanced and it is small if the feature is very unbalanced.\n",
    "- However, we want balanced features to get a low order, so we negate the discrete entropy."
   ]
  },
  {
   "cell_type": "code",
   "execution_count": 43,
   "metadata": {
    "ExecuteTime": {
     "end_time": "2024-04-25T13:55:49.561249Z",
     "start_time": "2024-04-25T13:55:49.460837Z"
    }
   },
   "outputs": [],
   "source": [
    "from tangles.util.entropy import entropy\n",
    "\n",
    "def order_function(features):\n",
    "    return -entropy(features)"
   ]
  },
  {
   "cell_type": "markdown",
   "metadata": {},
   "source": [
    "To see that this choice for the order function makes sense, let's focus on the features $s_1, ..., s_4$ of a single statement. Specifying the most balanced features first, we decide if the interval is in the lower or in the upper range of the rating scale (w.r.t. the median of the ratings). Then, proceeding with less and less balanced features we gradually refine the interval.\n",
    "\n",
    "We plot the orders to get a feeling for how the intervals will get composed of the specified features."
   ]
  },
  {
   "cell_type": "code",
   "execution_count": 44,
   "metadata": {
    "ExecuteTime": {
     "end_time": "2024-04-25T13:55:49.792333Z",
     "start_time": "2024-04-25T13:55:49.466166Z"
    }
   },
   "outputs": [
    {
     "data": {
      "image/png": "[encoded data removed]",
      "text/plain": [
       "<Figure size 1000x200 with 1 Axes>"
      ]
     },
     "metadata": {},
     "output_type": "display_data"
    }
   ],
   "source": [
    "features, metadata = SimpleSurveyFeatureFactory(survey_N).create_features()\n",
    "\n",
    "fig, ax = plt.subplots(figsize=(10,2))\n",
    "ax.bar(range(features.shape[1]), order_function(features), color=(['tab:blue']*4+['grey']*4)*features.shape[1])\n",
    "ax.set_title(f'Feature Orders')\n",
    "ax.set_xticks(range(features.shape[1]), [''.join(map(str, m)) for m in metadata], fontsize=8, rotation=90);"
   ]
  },
  {
   "cell_type": "markdown",
   "metadata": {},
   "source": [
    "First specifying the features with the lowest order and then adding more and more features will narrow the intervals described by the tangle.\n",
    "\n",
    "Note that for most statements there exists a feature with relatively low order as well as a feature with relatively high order. Thus, when searching for tangles, the statements will get added in a \"mixed\" manner, narrowing the ten intervals roughly uniformly."
   ]
  },
  {
   "cell_type": "markdown",
   "metadata": {},
   "source": [
    "### 6.3 Interval tangles"
   ]
  },
  {
   "cell_type": "markdown",
   "metadata": {},
   "source": [
    "Now, let's search for tangles and have a look at the tangle matrix."
   ]
  },
  {
   "cell_type": "code",
   "execution_count": 45,
   "metadata": {
    "ExecuteTime": {
     "end_time": "2024-04-25T13:55:49.984416Z",
     "start_time": "2024-04-25T13:55:49.791601Z"
    },
    "collapsed": false,
    "editable": true,
    "jupyter": {
     "outputs_hidden": false
    },
    "slideshow": {
     "slide_type": ""
    },
    "tags": [
     "remove_output"
    ]
   },
   "outputs": [
    {
     "name": "stdout",
     "output_type": "stream",
     "text": [
      "creating features... finished                                                                                                                         \n",
      "computing orders... finished                                                                                                                          \n",
      "[ tree height=40, number of tangles=15, limit=1487.0 ]: appending finished                                                                            \n"
     ]
    }
   ],
   "source": [
    "agreement = 1500\n",
    "tangles = SurveyTangles.search(survey_N, agreement, order=order_function)"
   ]
  },
  {
   "cell_type": "code",
   "execution_count": 46,
   "metadata": {
    "ExecuteTime": {
     "end_time": "2024-04-25T13:55:50.276500Z",
     "start_time": "2024-04-25T13:55:49.985450Z"
    }
   },
   "outputs": [
    {
     "data": {
      "image/png": "[encoded data removed]",
      "text/plain": [
       "<Figure size 900x400 with 1 Axes>"
      ]
     },
     "metadata": {},
     "output_type": "display_data"
    }
   ],
   "source": [
    "tangle_matrix = tangles.tangle_matrix(False, False, False)\n",
    "plot_tangle_matrix(tangle_matrix, \n",
    "                   f'{tangle_matrix.shape[0]} Tangles ({np.sum(np.sum(np.abs(tangle_matrix), axis=1)==len(tangles.feature_system))} complete) for agreement {agreement}',\n",
    "                   [''.join(map(str, m[0].info)) for m in tangles.ordered_metadata()],\n",
    "                   ax = plt.subplots(figsize=(9,4))[1]);"
   ]
  },
  {
   "cell_type": "markdown",
   "metadata": {},
   "source": [
    "We will not have a closer look the first eight tangles, as they are to unspecific and will not yield interesting intervals. Let's visualise the intervals of the remaining tangles."
   ]
  },
  {
   "cell_type": "code",
   "execution_count": 47,
   "metadata": {
    "ExecuteTime": {
     "end_time": "2024-04-25T13:55:50.497522Z",
     "start_time": "2024-04-25T13:55:50.275685Z"
    }
   },
   "outputs": [
    {
     "data": {
      "image/png": "[encoded data removed]",
      "text/plain": [
       "<Figure size 1200x308 with 1 Axes>"
      ]
     },
     "metadata": {},
     "output_type": "display_data"
    }
   ],
   "source": [
    "from src.rating_interval_util import plot_typical_answers\n",
    "\n",
    "plot_typical_answers(tangles.typical_answers(insert_labels=False).iloc[8:], agreement, survey_N.data.columns)"
   ]
  },
  {
   "cell_type": "markdown",
   "metadata": {},
   "source": [
    "Each entry in the plot shows an interval, e.g. N1 in tangle 0 depicts $[4,5]$.\n",
    "\n",
    "When interpreting the results, keep in mind that the rating scale of the negatively keyed statements N2 and N4 is reversed. Here is a look-up table for the N statements: \n",
    "\n",
    "| N1                         | N2                              | N3                    | N4                  | N5                     | N6                  | N7                      | N8                           | N9                      | N10                |\n",
    "|----------------------------|--------------------------------|-----------------------|---------------------|------------------------|---------------------|-------------------------|------------------------------|-------------------------|--------------------|\n",
    "| <sub>I get stressed out easily.<sub> | <sub>I am relaxed most of the time.<sub> | <sub>I worry about things.<sub> | <sub>I seldom feel blue.<sub> | <sub>I am easily disturbed.<sub> | <sub>I get upset easily.<sub> | <sub>I change my mood a lot.<sub> | <sub>I have frequent mood swings.<sub> | <sub>I get irritated easily.<sub> | <sub>I often feel blue.<sub> |"
   ]
  },
  {
   "cell_type": "markdown",
   "metadata": {},
   "source": [
    "We can recognize three groups of tangles:\n",
    "1) __Tangles 5, 6:__ These tangles don't consist of intervals, but of a single value for each statement. Interestingly, moderate ratings are the most common way to rate the N statements. \n",
    "2) __Tangles 2, 3:__ We see two typical types of participants that __don't__ have a __neurotic__ tendency.\n",
    "    - Tangle 2 is straightforward. All statements get a low rating. \n",
    "    - Tangle 3 represents participants that don't have typical neurotic character traits, but feel blue from time to time.   \n",
    "3) __Tangles 0, 1, 4:__ We see the two most typical ways of how participants with a __neurotic__ tendency rate the statements.\n",
    "    - Tangle 4 is straightforward.\n",
    "    - Tangle 1 represents participants that are neurotic, but don't necessarily worry to much about things.\n",
    "    - Tangle 0 is similar, but additionally this facet captures participants that feel blue less often than most participants with a neurotic tendency. \n",
    "    \n",
    "Note a strange detail concerning tangle 0: While ¬N4 has a low to medium rating, N10, which can be see as an equivalent of ¬N4, has a medium to high rating. It may be interesting to investigate further into the relation of ¬N4 and N10 ratings!"
   ]
  },
  {
   "cell_type": "markdown",
   "metadata": {},
   "source": [
    "Finally, two notes on this result:  \n",
    "- The choice of feature order has a great influence on the results. Playing around with different feature orders is a nice way to get a feeling for the data and to better understand the tangle search process.\n",
    "- Moreover, to get a valuable interpretation we choose a specific viewpoint on our data, namely, we only have a look at the N statements. Our experiments showed that if we instead look at the statements of one of the other four factors, the interval tangles may not reveal as much structural information as they do for N. The same holds if we consider all 50 statements at once: Firstly, interpretation is difficult because the large number of intervals can be overwhelming, and secondly, the vast majority of the found interval tangles differs just slightly, which makes most tangles uninteresting.\n",
    "\n",
    "We encourage the user to play around with the setup of the tangle search to find other fruitful viewpoints on the data."
   ]
  }
 ],
 "metadata": {
  "kernelspec": {
   "display_name": "Python 3 (ipykernel)",
   "language": "python",
   "name": "python3"
  },
  "language_info": {
   "codemirror_mode": {
    "name": "ipython",
    "version": 3
   },
   "file_extension": ".py",
   "mimetype": "text/x-python",
   "name": "python",
   "nbconvert_exporter": "python",
   "pygments_lexer": "ipython3",
   "version": "3.12.3"
  },
  "vscode": {
   "interpreter": {
    "hash": "18d70d3a5ec8dae470aa7ed92e95e983ed352393fba22ec5a6164b74731ce55e"
   }
  }
 },
 "nbformat": 4,
 "nbformat_minor": 4
}
